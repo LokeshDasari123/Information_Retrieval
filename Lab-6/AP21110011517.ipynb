{
  "nbformat": 4,
  "nbformat_minor": 0,
  "metadata": {
    "colab": {
      "provenance": []
    },
    "kernelspec": {
      "name": "python3",
      "display_name": "Python 3"
    },
    "language_info": {
      "name": "python"
    }
  },
  "cells": [
    {
      "cell_type": "code",
      "execution_count": null,
      "metadata": {
        "colab": {
          "base_uri": "https://localhost:8080/"
        },
        "id": "ufIf-mRrx7on",
        "outputId": "ebfe77ff-6489-4089-896b-e6dd33321d11"
      },
      "outputs": [
        {
          "output_type": "stream",
          "name": "stdout",
          "text": [
            "Documents containing 'indexing': [(1, 1), (2, 3), (3, 0), (4, 1)]\n"
          ]
        }
      ],
      "source": [
        "import os\n",
        "from collections import defaultdict\n",
        "\n",
        "class IndexSegment:\n",
        "    def __init__(self):\n",
        "        self.index = defaultdict(list)\n",
        "\n",
        "    def add_document(self, doc_id, content):\n",
        "        terms = content.lower().split()\n",
        "        for position, term in enumerate(terms):\n",
        "            self.index[term].append((doc_id, position))\n",
        "\n",
        "    def merge(self, other):\n",
        "        for term, postings in other.index.items():\n",
        "            self.index[term].extend(postings)\n",
        "        return self\n",
        "\n",
        "\n",
        "class DynamicIndex:\n",
        "    def __init__(self, merge_threshold=2, buffer_size=5):\n",
        "        self.segments = []\n",
        "        self.merge_threshold = merge_threshold\n",
        "        self.buffer_size = buffer_size\n",
        "        self.buffer = IndexSegment()\n",
        "        self.buffer_count = 0\n",
        "\n",
        "    def add_document(self, doc_id, content):\n",
        "        self.buffer.add_document(doc_id, content)\n",
        "        self.buffer_count += 1\n",
        "\n",
        "        if self.buffer_count >= self.buffer_size:\n",
        "            self._flush_buffer()\n",
        "\n",
        "    def _flush_buffer(self):\n",
        "        if self.buffer_count > 0:\n",
        "            self.segments.append(self.buffer)\n",
        "            self.buffer = IndexSegment()\n",
        "            self.buffer_count = 0\n",
        "            self._merge_segments()\n",
        "\n",
        "    def _merge_segments(self):\n",
        "        i = 0\n",
        "        while i < len(self.segments) - 1:\n",
        "            if len(self.segments) - i >= self.merge_threshold:\n",
        "                merged = self.segments[i]\n",
        "                for j in range(1, self.merge_threshold):\n",
        "                    merged = merged.merge(self.segments[i + j])\n",
        "                self.segments[i] = merged\n",
        "                del self.segments[i + 1 : i + self.merge_threshold]\n",
        "            i += 1\n",
        "\n",
        "    def search(self, query):\n",
        "        results = []\n",
        "        for segment in self.segments:\n",
        "            results.extend(segment.index.get(query.lower(), []))\n",
        "\n",
        "        results.extend(self.buffer.index.get(query.lower(), []))\n",
        "        return results\n",
        "\n",
        "    def update_document(self, doc_id, new_content):\n",
        "\n",
        "        for segment in self.segments:\n",
        "            segment.index = defaultdict(list, {term: [(d, p) for d, p in postings if d != doc_id]\n",
        "                                               for term, postings in segment.index.items()})\n",
        "        self.buffer.index = defaultdict(list, {term: [(d, p) for d, p in postings if d != doc_id]\n",
        "                                               for term, postings in self.buffer.index.items()})\n",
        "        self.add_document(doc_id, new_content)\n",
        "def main():\n",
        "    # Initialize the DynamicIndexing with a merge threshold of 10 and buffer size of 3\n",
        "    merge_threshold = 10\n",
        "    buffer_size = 3\n",
        "    dynamic_index = DynamicIndex(merge_threshold, buffer_size)\n",
        "\n",
        "    # Sample documents (normally read from a file or database)\n",
        "    documents = {\n",
        "        1: \"Dynamic indexing algorithms help optimize search.\",\n",
        "        2: \"Search engines use indexing to retrieve documents efficiently.\",\n",
        "        3: \"Indexing techniques vary based on data and usage patterns.\",\n",
        "        4: \"Some indexing methods are dynamic, merging data over time.\",\n",
        "    }\n",
        "\n",
        "    # Adding documents to the index\n",
        "    for doc_id, content in documents.items():\n",
        "        dynamic_index.add_document(doc_id, content)\n",
        "\n",
        "    # Search for a term in the index\n",
        "    search_term = \"indexing\"\n",
        "    result = dynamic_index.search(search_term)\n",
        "\n",
        "    print(f\"Documents containing '{search_term}': {result}\")\n",
        "\n",
        "if __name__ == \"__main__\":\n",
        "    main()"
      ]
    },
    {
      "cell_type": "markdown",
      "source": [
        "**Explanation of every Method**"
      ],
      "metadata": {
        "id": "Xpv3u4lf0R3O"
      }
    },
    {
      "cell_type": "markdown",
      "source": [
        "\n",
        "\n",
        "1.   ___init_ (Constructor):\n",
        "     \n",
        "     Initializes the dynamic index with a merge threshold and buffer size. The buffer holds documents temporarily, while the index stores tokens and their associated document IDs.\n",
        "\n",
        "2.   add_document(doc_id, content):\n",
        "     \n",
        "     Adds a document to the buffer. Each document is tokenized, and when the buffer reaches the buffer_size, it triggers the merge_into_index method.\n",
        "\n",
        "3.   merge_into_index():\n",
        "     \n",
        "     Merges the contents of the buffer into the main index. Each token from the buffer is added to the index, and document IDs are stored in the index under the corresponding token. The buffer is cleared after merging.\n",
        "\n",
        "4.   search(term):\n",
        "     \n",
        "     Searches for a term in the index and returns the list of document IDs containing that term.\n",
        "\n",
        "\n",
        "\n"
      ],
      "metadata": {
        "id": "N1KR6yri0oXH"
      }
    },
    {
      "cell_type": "markdown",
      "source": [
        "**Explanation of merge_threshold and buffer_size**\n",
        "\n",
        "1.   merge_threshold:\n",
        "     \n",
        "     This could refer to the total number of documents or updates before the index is merged or optimized. In the current context, we can treat it as a threshold to perform larger-scale merges.\n",
        "\n",
        "2. buffer_size:\n",
        "     \n",
        "     The number of documents that can be held in memory (buffer) before they are written to disk (or, in this case, merged into the index). When the buffer reaches its size, we flush its contents into the main index.\n",
        "\n"
      ],
      "metadata": {
        "id": "YhzZezkU1yCd"
      }
    },
    {
      "cell_type": "code",
      "source": [
        "import os\n",
        "\n",
        "class DynamicIndexing:\n",
        "    def __init__(self, merge_threshold, buffer_size):\n",
        "        # Initializing merge threshold and buffer size for dynamic indexing\n",
        "        self.merge_threshold = merge_threshold\n",
        "        self.buffer_size = buffer_size\n",
        "        self.buffer = []  # Buffer to hold incoming data before merging into index\n",
        "        self.index = {}  # The actual index structure\n",
        "\n",
        "    def add_document(self, doc_id, content):\n",
        "        \"\"\"\n",
        "        Add a document to the buffer. When the buffer reaches the merge threshold,\n",
        "        flush the buffer to the index.\n",
        "        \"\"\"\n",
        "        tokens = content.split()  # Simple tokenization of the content\n",
        "        self.buffer.append((doc_id, tokens))\n",
        "\n",
        "        # Check if buffer has reached the threshold to merge into the index\n",
        "        if len(self.buffer) >= self.buffer_size:\n",
        "            self.merge_into_index()\n",
        "\n",
        "    def merge_into_index(self):\n",
        "        \"\"\"\n",
        "        Merge the buffer into the main index when buffer size reaches the threshold.\n",
        "        \"\"\"\n",
        "        for doc_id, tokens in self.buffer:\n",
        "            for token in tokens:\n",
        "                if token not in self.index:\n",
        "                    self.index[token] = []\n",
        "                self.index[token].append(doc_id)\n",
        "        # Clear the buffer after merging\n",
        "        self.buffer.clear()\n",
        "\n",
        "    def search(self, term):\n",
        "        \"\"\"\n",
        "        Search for a term in the index and return document IDs containing the term.\n",
        "        \"\"\"\n",
        "        if term in self.index:\n",
        "            return self.index[term]\n",
        "        else:\n",
        "            return []\n",
        "\n",
        "def read_files_from_directory(directory_path):\n",
        "    \"\"\"\n",
        "    Recursively read all text files from the directory and its subdirectories.\n",
        "    Returns a dictionary where keys are filenames and values are the file content.\n",
        "    \"\"\"\n",
        "    documents = {}\n",
        "    for root, dirs, files in os.walk(directory_path):  # Traverse directories recursively\n",
        "        for filename in files:\n",
        "            if filename.endswith(\".txt\"):  # Only process .txt files\n",
        "                file_path = os.path.join(root, filename)\n",
        "                with open(file_path, 'r', encoding='utf-8') as file:\n",
        "                    documents[file_path] = file.read()  # Use the file path as doc_id\n",
        "    return documents\n",
        "\n",
        "def main():\n",
        "    # Initialize the DynamicIndexing with a merge threshold and buffer size\n",
        "    merge_threshold = 1000  # Adjust based on the total number of documents\n",
        "    buffer_size = 10  # Adjust based on memory limits\n",
        "    dynamic_index = DynamicIndexing(merge_threshold, buffer_size)\n",
        "\n",
        "    # Define the parent directory containing the 10 subfolders with text files\n",
        "    parent_directory_path = \"/content/drive/MyDrive/IR WEEK-3\"  # Replace with actual parent folder path\n",
        "\n",
        "    # Read all text files from the subfolders\n",
        "    documents = read_files_from_directory(parent_directory_path)\n",
        "\n",
        "    # Add documents from the files to the index\n",
        "    for doc_id, content in documents.items():\n",
        "        dynamic_index.add_document(doc_id, content)\n",
        "\n",
        "    # Search for a term in the index\n",
        "    n=int(input(\"Enter number of words you want to search:\"))\n",
        "    while(n):\n",
        "      search_term = input(\"Enter a search term: \")\n",
        "      result = dynamic_index.search(search_term)\n",
        "      print(f\"Documents containing '{search_term}': {result}\")\n",
        "      n-=1\n",
        "\n",
        "if __name__ == \"__main__\":\n",
        "    main()\n"
      ],
      "metadata": {
        "colab": {
          "base_uri": "https://localhost:8080/"
        },
        "id": "Eakbrf292zyR",
        "outputId": "0851f645-d19e-4928-b1e4-9878780ca4d2"
      },
      "execution_count": null,
      "outputs": [
        {
          "output_type": "stream",
          "name": "stdout",
          "text": [
            "Enter number of words you want to search:3\n",
            "Enter a search term: hi\n",
            "Documents containing 'hi': []\n",
            "Enter a search term: money\n",
            "Documents containing 'money': ['/content/drive/MyDrive/IR WEEK-3/merged_folder/historical_86_7651.txt', '/content/drive/MyDrive/IR WEEK-3/merged_folder/historical_86_7651.txt', '/content/drive/MyDrive/IR WEEK-3/merged_folder/historical_94_6374.txt', '/content/drive/MyDrive/IR WEEK-3/merged_folder/historical_94_6374.txt', '/content/drive/MyDrive/IR WEEK-3/merged_folder/historical_94_6374.txt', '/content/drive/MyDrive/IR WEEK-3/merged_folder/technologie_67_4950.txt', '/content/drive/MyDrive/IR WEEK-3/merged_folder/technologie_67_4950.txt', '/content/drive/MyDrive/IR WEEK-3/merged_folder/technologie_77_5548.txt', '/content/drive/MyDrive/IR WEEK-3/merged_folder/technologie_27_4553.txt', '/content/drive/MyDrive/IR WEEK-3/merged_folder/technologie_27_4553.txt', '/content/drive/MyDrive/IR WEEK-3/merged_folder/technologie_12_1506.txt', '/content/drive/MyDrive/IR WEEK-3/merged_folder/technologie_12_1506.txt', '/content/drive/MyDrive/IR WEEK-3/merged_folder/technologie_97_3721.txt', '/content/drive/MyDrive/IR WEEK-3/merged_folder/technologie_97_3721.txt', '/content/drive/MyDrive/IR WEEK-3/merged_folder/technologie_87_1746.txt', '/content/drive/MyDrive/IR WEEK-3/merged_folder/sport_35_1826.txt', '/content/drive/MyDrive/IR WEEK-3/merged_folder/sport_72_6923.txt', '/content/drive/MyDrive/IR WEEK-3/merged_folder/sport_49_2177.txt', '/content/drive/MyDrive/IR WEEK-3/merged_folder/sport_88_5364.txt', '/content/drive/MyDrive/IR WEEK-3/merged_folder/food_70_7707.txt', '/content/drive/MyDrive/IR WEEK-3/merged_folder/food_63_7370.txt', '/content/drive/MyDrive/IR WEEK-3/merged_folder/food_69_2977.txt', '/content/drive/MyDrive/IR WEEK-3/merged_folder/food_59_4482.txt', '/content/drive/MyDrive/IR WEEK-3/merged_folder/food_66_4487.txt', '/content/drive/MyDrive/IR WEEK-3/merged_folder/space_6_2581.txt', '/content/drive/MyDrive/IR WEEK-3/merged_folder/space_24_1470.txt', '/content/drive/MyDrive/IR WEEK-3/merged_folder/space_40_5549.txt', '/content/drive/MyDrive/IR WEEK-3/merged_folder/space_40_5549.txt', '/content/drive/MyDrive/IR WEEK-3/merged_folder/space_43_8293.txt', '/content/drive/MyDrive/IR WEEK-3/merged_folder/politics_326_5591.txt', '/content/drive/MyDrive/IR WEEK-3/merged_folder/politics_282_2489.txt', '/content/drive/MyDrive/IR WEEK-3/merged_folder/politics_301_1152.txt', '/content/drive/MyDrive/IR WEEK-3/merged_folder/politics_1_9710.txt', '/content/drive/MyDrive/IR WEEK-3/merged_folder/politics_316_5311.txt', '/content/drive/MyDrive/IR WEEK-3/merged_folder/politics_265_9932.txt', '/content/drive/MyDrive/IR WEEK-3/merged_folder/politics_265_9932.txt', '/content/drive/MyDrive/IR WEEK-3/merged_folder/politics_298_1483.txt', '/content/drive/MyDrive/IR WEEK-3/merged_folder/politics_298_1483.txt', '/content/drive/MyDrive/IR WEEK-3/merged_folder/politics_128_5921.txt', '/content/drive/MyDrive/IR WEEK-3/merged_folder/politics_101_4705.txt', '/content/drive/MyDrive/IR WEEK-3/merged_folder/politics_271_1728.txt', '/content/drive/MyDrive/IR WEEK-3/merged_folder/politics_271_1728.txt', '/content/drive/MyDrive/IR WEEK-3/merged_folder/politics_277_5461.txt', '/content/drive/MyDrive/IR WEEK-3/merged_folder/politics_138_2232.txt', '/content/drive/MyDrive/IR WEEK-3/merged_folder/politics_226_6461.txt', '/content/drive/MyDrive/IR WEEK-3/merged_folder/politics_226_6461.txt', '/content/drive/MyDrive/IR WEEK-3/merged_folder/politics_275_8247.txt', '/content/drive/MyDrive/IR WEEK-3/merged_folder/business_36_5792.txt', '/content/drive/MyDrive/IR WEEK-3/merged_folder/business_63_4487.txt', '/content/drive/MyDrive/IR WEEK-3/merged_folder/business_63_4487.txt', '/content/drive/MyDrive/IR WEEK-3/merged_folder/business_17_1511.txt', '/content/drive/MyDrive/IR WEEK-3/merged_folder/business_19_6304.txt', '/content/drive/MyDrive/IR WEEK-3/merged_folder/business_19_6304.txt', '/content/drive/MyDrive/IR WEEK-3/merged_folder/business_91_3849.txt', '/content/drive/MyDrive/IR WEEK-3/merged_folder/business_91_3849.txt', '/content/drive/MyDrive/IR WEEK-3/merged_folder/business_30_6157.txt', '/content/drive/MyDrive/IR WEEK-3/merged_folder/business_80_2550.txt', '/content/drive/MyDrive/IR WEEK-3/merged_folder/business_11_8136.txt', '/content/drive/MyDrive/IR WEEK-3/merged_folder/business_37_8095.txt', '/content/drive/MyDrive/IR WEEK-3/merged_folder/business_37_8095.txt', '/content/drive/MyDrive/IR WEEK-3/merged_folder/business_73_5406.txt', '/content/drive/MyDrive/IR WEEK-3/merged_folder/business_86_2066.txt', '/content/drive/MyDrive/IR WEEK-3/merged_folder/business_86_2066.txt', '/content/drive/MyDrive/IR WEEK-3/merged_folder/business_86_2066.txt', '/content/drive/MyDrive/IR WEEK-3/merged_folder/medical_58_6774.txt', '/content/drive/MyDrive/IR WEEK-3/merged_folder/medical_58_6774.txt', '/content/drive/MyDrive/IR WEEK-3/merged_folder/medical_485_7029.txt', '/content/drive/MyDrive/IR WEEK-3/merged_folder/medical_586_9638.txt', '/content/drive/MyDrive/IR WEEK-3/merged_folder/medical_295_4738.txt', '/content/drive/MyDrive/IR WEEK-3/merged_folder/medical_1_1612.txt', '/content/drive/MyDrive/IR WEEK-3/merged_folder/medical_137_3192.txt', '/content/drive/MyDrive/IR WEEK-3/merged_folder/medical_137_3192.txt', '/content/drive/MyDrive/IR WEEK-3/merged_folder/medical_565_9075.txt', '/content/drive/MyDrive/IR WEEK-3/merged_folder/entertainment_92_7899.txt', '/content/drive/MyDrive/IR WEEK-3/merged_folder/entertainment_17_8352.txt', '/content/drive/MyDrive/IR WEEK-3/merged_folder/entertainment_17_8352.txt', '/content/drive/MyDrive/IR WEEK-3/merged_folder/entertainment_17_8352.txt', '/content/drive/MyDrive/IR WEEK-3/merged_folder/entertainment_17_8352.txt', '/content/drive/MyDrive/IR WEEK-3/merged_folder/entertainment_67_8690.txt', '/content/drive/MyDrive/IR WEEK-3/merged_folder/entertainment_89_9959.txt', '/content/drive/MyDrive/IR WEEK-3/merged_folder/entertainment_89_9959.txt', '/content/drive/MyDrive/IR WEEK-3/merged_folder/entertainment_89_9959.txt', '/content/drive/MyDrive/IR WEEK-3/merged_folder/entertainment_73_1709.txt', '/content/drive/MyDrive/IR WEEK-3/merged_folder/entertainment_36_6782.txt', '/content/drive/MyDrive/IR WEEK-3/merged_folder/graphics_68_7125.txt', '/content/drive/MyDrive/IR WEEK-3/merged_folder/graphics_2_1429.txt']\n",
            "Enter a search term: food\n",
            "Documents containing 'food': ['/content/drive/MyDrive/IR WEEK-3/merged_folder/historical_30_4718.txt', '/content/drive/MyDrive/IR WEEK-3/merged_folder/historical_30_4718.txt', '/content/drive/MyDrive/IR WEEK-3/merged_folder/historical_45_5220.txt', '/content/drive/MyDrive/IR WEEK-3/merged_folder/historical_58_8168.txt', '/content/drive/MyDrive/IR WEEK-3/merged_folder/historical_33_1557.txt', '/content/drive/MyDrive/IR WEEK-3/merged_folder/historical_94_6374.txt', '/content/drive/MyDrive/IR WEEK-3/merged_folder/historical_74_7506.txt', '/content/drive/MyDrive/IR WEEK-3/merged_folder/historical_17_2504.txt', '/content/drive/MyDrive/IR WEEK-3/merged_folder/historical_95_6817.txt', '/content/drive/MyDrive/IR WEEK-3/merged_folder/historical_95_6817.txt', '/content/drive/MyDrive/IR WEEK-3/merged_folder/sport_4_1347.txt', '/content/drive/MyDrive/IR WEEK-3/merged_folder/food_45_8568.txt', '/content/drive/MyDrive/IR WEEK-3/merged_folder/food_64_5361.txt', '/content/drive/MyDrive/IR WEEK-3/merged_folder/food_64_5361.txt', '/content/drive/MyDrive/IR WEEK-3/merged_folder/food_64_5361.txt', '/content/drive/MyDrive/IR WEEK-3/merged_folder/food_64_5361.txt', '/content/drive/MyDrive/IR WEEK-3/merged_folder/food_64_5361.txt', '/content/drive/MyDrive/IR WEEK-3/merged_folder/food_62_9909.txt', '/content/drive/MyDrive/IR WEEK-3/merged_folder/food_62_9909.txt', '/content/drive/MyDrive/IR WEEK-3/merged_folder/food_62_9909.txt', '/content/drive/MyDrive/IR WEEK-3/merged_folder/food_62_9909.txt', '/content/drive/MyDrive/IR WEEK-3/merged_folder/food_62_9909.txt', '/content/drive/MyDrive/IR WEEK-3/merged_folder/food_62_9909.txt', '/content/drive/MyDrive/IR WEEK-3/merged_folder/food_83_1041.txt', '/content/drive/MyDrive/IR WEEK-3/merged_folder/food_70_7707.txt', '/content/drive/MyDrive/IR WEEK-3/merged_folder/food_70_7707.txt', '/content/drive/MyDrive/IR WEEK-3/merged_folder/food_70_7707.txt', '/content/drive/MyDrive/IR WEEK-3/merged_folder/food_65_7138.txt', '/content/drive/MyDrive/IR WEEK-3/merged_folder/food_44_2705.txt', '/content/drive/MyDrive/IR WEEK-3/merged_folder/food_80_3748.txt', '/content/drive/MyDrive/IR WEEK-3/merged_folder/food_80_3748.txt', '/content/drive/MyDrive/IR WEEK-3/merged_folder/food_63_7370.txt', '/content/drive/MyDrive/IR WEEK-3/merged_folder/food_63_7370.txt', '/content/drive/MyDrive/IR WEEK-3/merged_folder/food_63_7370.txt', '/content/drive/MyDrive/IR WEEK-3/merged_folder/food_56_5719.txt', '/content/drive/MyDrive/IR WEEK-3/merged_folder/food_78_4325.txt', '/content/drive/MyDrive/IR WEEK-3/merged_folder/food_78_4325.txt', '/content/drive/MyDrive/IR WEEK-3/merged_folder/food_84_7975.txt', '/content/drive/MyDrive/IR WEEK-3/merged_folder/food_74_9887.txt', '/content/drive/MyDrive/IR WEEK-3/merged_folder/food_74_9887.txt', '/content/drive/MyDrive/IR WEEK-3/merged_folder/food_74_9887.txt', '/content/drive/MyDrive/IR WEEK-3/merged_folder/food_74_9887.txt', '/content/drive/MyDrive/IR WEEK-3/merged_folder/food_74_9887.txt', '/content/drive/MyDrive/IR WEEK-3/merged_folder/food_71_2251.txt', '/content/drive/MyDrive/IR WEEK-3/merged_folder/food_71_2251.txt', '/content/drive/MyDrive/IR WEEK-3/merged_folder/food_71_2251.txt', '/content/drive/MyDrive/IR WEEK-3/merged_folder/food_71_2251.txt', '/content/drive/MyDrive/IR WEEK-3/merged_folder/food_71_2251.txt', '/content/drive/MyDrive/IR WEEK-3/merged_folder/food_71_2251.txt', '/content/drive/MyDrive/IR WEEK-3/merged_folder/food_19_5213.txt', '/content/drive/MyDrive/IR WEEK-3/merged_folder/food_19_5213.txt', '/content/drive/MyDrive/IR WEEK-3/merged_folder/food_79_3762.txt', '/content/drive/MyDrive/IR WEEK-3/merged_folder/food_2_3110.txt', '/content/drive/MyDrive/IR WEEK-3/merged_folder/food_81_7858.txt', '/content/drive/MyDrive/IR WEEK-3/merged_folder/food_81_7858.txt', '/content/drive/MyDrive/IR WEEK-3/merged_folder/food_81_7858.txt', '/content/drive/MyDrive/IR WEEK-3/merged_folder/food_68_8886.txt', '/content/drive/MyDrive/IR WEEK-3/merged_folder/food_68_8886.txt', '/content/drive/MyDrive/IR WEEK-3/merged_folder/food_68_8886.txt', '/content/drive/MyDrive/IR WEEK-3/merged_folder/food_73_3664.txt', '/content/drive/MyDrive/IR WEEK-3/merged_folder/food_73_3664.txt', '/content/drive/MyDrive/IR WEEK-3/merged_folder/food_73_3664.txt', '/content/drive/MyDrive/IR WEEK-3/merged_folder/food_73_3664.txt', '/content/drive/MyDrive/IR WEEK-3/merged_folder/food_73_3664.txt', '/content/drive/MyDrive/IR WEEK-3/merged_folder/food_87_7790.txt', '/content/drive/MyDrive/IR WEEK-3/merged_folder/food_87_7790.txt', '/content/drive/MyDrive/IR WEEK-3/merged_folder/food_87_7790.txt', '/content/drive/MyDrive/IR WEEK-3/merged_folder/food_87_7790.txt', '/content/drive/MyDrive/IR WEEK-3/merged_folder/food_87_7790.txt', '/content/drive/MyDrive/IR WEEK-3/merged_folder/food_87_7790.txt', '/content/drive/MyDrive/IR WEEK-3/merged_folder/food_87_7790.txt', '/content/drive/MyDrive/IR WEEK-3/merged_folder/food_87_7790.txt', '/content/drive/MyDrive/IR WEEK-3/merged_folder/food_87_7790.txt', '/content/drive/MyDrive/IR WEEK-3/merged_folder/food_87_7790.txt', '/content/drive/MyDrive/IR WEEK-3/merged_folder/food_87_7790.txt', '/content/drive/MyDrive/IR WEEK-3/merged_folder/food_87_7790.txt', '/content/drive/MyDrive/IR WEEK-3/merged_folder/food_87_7790.txt', '/content/drive/MyDrive/IR WEEK-3/merged_folder/food_87_7790.txt', '/content/drive/MyDrive/IR WEEK-3/merged_folder/food_75_6801.txt', '/content/drive/MyDrive/IR WEEK-3/merged_folder/food_75_6801.txt', '/content/drive/MyDrive/IR WEEK-3/merged_folder/food_49_1625.txt', '/content/drive/MyDrive/IR WEEK-3/merged_folder/food_100_2377.txt', '/content/drive/MyDrive/IR WEEK-3/merged_folder/food_90_1084.txt', '/content/drive/MyDrive/IR WEEK-3/merged_folder/food_69_2977.txt', '/content/drive/MyDrive/IR WEEK-3/merged_folder/food_69_2977.txt', '/content/drive/MyDrive/IR WEEK-3/merged_folder/food_69_2977.txt', '/content/drive/MyDrive/IR WEEK-3/merged_folder/food_59_4482.txt', '/content/drive/MyDrive/IR WEEK-3/merged_folder/food_59_4482.txt', '/content/drive/MyDrive/IR WEEK-3/merged_folder/food_59_4482.txt', '/content/drive/MyDrive/IR WEEK-3/merged_folder/food_59_4482.txt', '/content/drive/MyDrive/IR WEEK-3/merged_folder/food_59_4482.txt', '/content/drive/MyDrive/IR WEEK-3/merged_folder/food_85_2949.txt', '/content/drive/MyDrive/IR WEEK-3/merged_folder/food_86_1220.txt', '/content/drive/MyDrive/IR WEEK-3/merged_folder/food_86_1220.txt', '/content/drive/MyDrive/IR WEEK-3/merged_folder/food_86_1220.txt', '/content/drive/MyDrive/IR WEEK-3/merged_folder/food_89_2715.txt', '/content/drive/MyDrive/IR WEEK-3/merged_folder/food_66_4487.txt', '/content/drive/MyDrive/IR WEEK-3/merged_folder/food_66_4487.txt', '/content/drive/MyDrive/IR WEEK-3/merged_folder/food_66_4487.txt', '/content/drive/MyDrive/IR WEEK-3/merged_folder/food_66_4487.txt', '/content/drive/MyDrive/IR WEEK-3/merged_folder/food_66_4487.txt', '/content/drive/MyDrive/IR WEEK-3/merged_folder/food_48_8064.txt', '/content/drive/MyDrive/IR WEEK-3/merged_folder/food_82_2037.txt', '/content/drive/MyDrive/IR WEEK-3/merged_folder/food_82_2037.txt', '/content/drive/MyDrive/IR WEEK-3/merged_folder/food_82_2037.txt', '/content/drive/MyDrive/IR WEEK-3/merged_folder/food_67_3416.txt', '/content/drive/MyDrive/IR WEEK-3/merged_folder/space_76_2283.txt', '/content/drive/MyDrive/IR WEEK-3/merged_folder/space_75_4473.txt', '/content/drive/MyDrive/IR WEEK-3/merged_folder/space_96_8611.txt', '/content/drive/MyDrive/IR WEEK-3/merged_folder/space_62_1114.txt', '/content/drive/MyDrive/IR WEEK-3/merged_folder/politics_180_9560.txt', '/content/drive/MyDrive/IR WEEK-3/merged_folder/politics_322_6516.txt', '/content/drive/MyDrive/IR WEEK-3/merged_folder/business_91_3849.txt', '/content/drive/MyDrive/IR WEEK-3/merged_folder/business_51_7071.txt', '/content/drive/MyDrive/IR WEEK-3/merged_folder/medical_645_2948.txt', '/content/drive/MyDrive/IR WEEK-3/merged_folder/medical_645_2948.txt', '/content/drive/MyDrive/IR WEEK-3/merged_folder/medical_645_2948.txt', '/content/drive/MyDrive/IR WEEK-3/merged_folder/medical_645_2948.txt', '/content/drive/MyDrive/IR WEEK-3/merged_folder/medical_487_4335.txt', '/content/drive/MyDrive/IR WEEK-3/merged_folder/medical_487_4335.txt', '/content/drive/MyDrive/IR WEEK-3/merged_folder/medical_646_8262.txt', '/content/drive/MyDrive/IR WEEK-3/merged_folder/medical_646_8262.txt', '/content/drive/MyDrive/IR WEEK-3/merged_folder/medical_134_9253.txt']\n"
          ]
        }
      ]
    }
  ]
}