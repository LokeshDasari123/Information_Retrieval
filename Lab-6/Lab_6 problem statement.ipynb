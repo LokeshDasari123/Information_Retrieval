{
 "cells": [
  {
   "cell_type": "markdown",
   "id": "1a7bf5c3",
   "metadata": {},
   "source": [
    "<h1> <center> Assignment 06: Dynamic Indexing Algorithm </center>  </h1>"
   ]
  },
  {
   "cell_type": "markdown",
   "id": "cdde09e6",
   "metadata": {},
   "source": [
    "#### Following Python code is generated from one of the GenAI tool."
   ]
  },
  {
   "cell_type": "code",
   "execution_count": 1,
   "id": "34e800c5",
   "metadata": {},
   "outputs": [],
   "source": [
    "import os\n",
    "from collections import defaultdict\n",
    "\n",
    "class IndexSegment:\n",
    "    def __init__(self):\n",
    "        self.index = defaultdict(list)\n",
    "    \n",
    "    def add_document(self, doc_id, content):\n",
    "        terms = content.lower().split() \n",
    "        for position, term in enumerate(terms):\n",
    "            self.index[term].append((doc_id, position))\n",
    "    \n",
    "    def merge(self, other):\n",
    "        for term, postings in other.index.items():\n",
    "            self.index[term].extend(postings)\n",
    "        return self\n",
    "    \n",
    "    \n",
    "class DynamicIndex:\n",
    "    def __init__(self, merge_threshold=2, buffer_size=5):\n",
    "        self.segments = []\n",
    "        self.merge_threshold = merge_threshold\n",
    "        self.buffer_size = buffer_size\n",
    "        self.buffer = IndexSegment()\n",
    "        self.buffer_count = 0\n",
    "    \n",
    "    def add_document(self, doc_id, content):\n",
    "        self.buffer.add_document(doc_id, content)\n",
    "        self.buffer_count += 1\n",
    "        \n",
    "        if self.buffer_count >= self.buffer_size:\n",
    "            self._flush_buffer()\n",
    "    \n",
    "    def _flush_buffer(self):\n",
    "        if self.buffer_count > 0:\n",
    "            self.segments.append(self.buffer)\n",
    "            self.buffer = IndexSegment()\n",
    "            self.buffer_count = 0\n",
    "            self._merge_segments()\n",
    "    \n",
    "    def _merge_segments(self):\n",
    "        i = 0\n",
    "        while i < len(self.segments) - 1:\n",
    "            if len(self.segments) - i >= self.merge_threshold:\n",
    "                merged = self.segments[i]\n",
    "                for j in range(1, self.merge_threshold):\n",
    "                    merged = merged.merge(self.segments[i + j])\n",
    "                self.segments[i] = merged\n",
    "                del self.segments[i + 1 : i + self.merge_threshold]\n",
    "            i += 1\n",
    "    \n",
    "    def search(self, query):\n",
    "        results = []\n",
    "        for segment in self.segments:\n",
    "            results.extend(segment.index.get(query.lower(), []))\n",
    "\n",
    "        results.extend(self.buffer.index.get(query.lower(), []))\n",
    "        return results\n",
    "    \n",
    "    def update_document(self, doc_id, new_content):\n",
    "\n",
    "        for segment in self.segments:\n",
    "            segment.index = defaultdict(list, {term: [(d, p) for d, p in postings if d != doc_id] \n",
    "                                               for term, postings in segment.index.items()})\n",
    "        self.buffer.index = defaultdict(list, {term: [(d, p) for d, p in postings if d != doc_id] \n",
    "                                               for term, postings in self.buffer.index.items()})\n",
    "        self.add_document(doc_id, new_content)"
   ]
  },
  {
   "cell_type": "markdown",
   "id": "3cbff983",
   "metadata": {},
   "source": [
    "### 1. Go through the code. Write the Driver Code to execute the Dynamic Indexing. \n",
    "[Try with dummy Data without reading files from secondary storage]\n",
    "\n",
    "### 2. Write Explaination for each Method in both the classes.\n",
    "\n",
    "### 3. Explain merge_threshold and buffer_size in the context on this code.\n",
    "\n",
    "### 4. Next, execute the code on the 1000 documents dataset. https://www.kaggle.com/datasets/jensenbaxter/10dataset-text-document-classification\n",
    "\n",
    "### 5. Write the driver code to execute the search document functionality. [Execute 2-3 examples]\n",
    "\n"
   ]
  },
  {
   "cell_type": "code",
   "execution_count": null,
   "id": "d5f37125",
   "metadata": {},
   "outputs": [],
   "source": []
  }
 ],
 "metadata": {
  "kernelspec": {
   "display_name": "Python 3 (ipykernel)",
   "language": "python",
   "name": "python3"
  },
  "language_info": {
   "codemirror_mode": {
    "name": "ipython",
    "version": 3
   },
   "file_extension": ".py",
   "mimetype": "text/x-python",
   "name": "python",
   "nbconvert_exporter": "python",
   "pygments_lexer": "ipython3",
   "version": "3.11.5"
  }
 },
 "nbformat": 4,
 "nbformat_minor": 5
}
