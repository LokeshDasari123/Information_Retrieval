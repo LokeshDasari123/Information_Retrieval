{
  "nbformat": 4,
  "nbformat_minor": 0,
  "metadata": {
    "colab": {
      "provenance": []
    },
    "kernelspec": {
      "name": "python3",
      "display_name": "Python 3"
    },
    "language_info": {
      "name": "python"
    }
  },
  "cells": [
    {
      "cell_type": "code",
      "source": [
        "from google.colab import drive\n",
        "drive.mount('/content/drive')"
      ],
      "metadata": {
        "colab": {
          "base_uri": "https://localhost:8080/"
        },
        "id": "nSFcToUAQRrZ",
        "outputId": "a1860346-2ec9-4a66-81a9-32e8f9a944f1"
      },
      "execution_count": 37,
      "outputs": [
        {
          "output_type": "stream",
          "name": "stdout",
          "text": [
            "Drive already mounted at /content/drive; to attempt to forcibly remount, call drive.mount(\"/content/drive\", force_remount=True).\n"
          ]
        }
      ]
    },
    {
      "cell_type": "code",
      "source": [
        "# import nltk\n",
        "# nltk.download()"
      ],
      "metadata": {
        "id": "1c-lSr-DNhnc"
      },
      "execution_count": 38,
      "outputs": []
    },
    {
      "cell_type": "code",
      "source": [
        "# !pip install beautifulsoup4\n",
        "# !pip install wget\n",
        "# !pip install beautifultable"
      ],
      "metadata": {
        "id": "s9VgJk8KQBRH"
      },
      "execution_count": null,
      "outputs": []
    },
    {
      "cell_type": "code",
      "source": [
        "SRC_DIR = '/content/drive/MyDrive/CSE 419/Lab Assign-5/src'\n",
        "\n",
        "import sys\n",
        "sys.path.append(SRC_DIR)"
      ],
      "metadata": {
        "id": "il5K-Fsnu2W7"
      },
      "execution_count": 40,
      "outputs": []
    },
    {
      "cell_type": "code",
      "source": [
        "%cd /content/drive/MyDrive/CSE 419/Lab Assign-5/src"
      ],
      "metadata": {
        "id": "DFnX1z4GxDRE"
      },
      "execution_count": null,
      "outputs": []
    },
    {
      "cell_type": "code",
      "source": [
        "!python main.py"
      ],
      "metadata": {
        "colab": {
          "base_uri": "https://localhost:8080/"
        },
        "id": "0YYR8Po6urwX",
        "outputId": "6122f504-6b63-4f8c-aa1b-e63447699c90"
      },
      "execution_count": 41,
      "outputs": [
        {
          "output_type": "stream",
          "name": "stdout",
          "text": [
            "Downloading Reuters files...\n",
            "\n",
            "Parsing Reuters files...\n",
            "Found 21,578 documents and 3,246,835 tokens. 44 block file(s) will be generated.\n",
            "\n",
            "/usr/local/lib/python3.10/dist-packages/beautifultable/utils.py:125: FutureWarning: 'BeautifulTable.column_headers' has been deprecated in 'v1.0.0' and will be removed in 'v1.2.0'. Use 'BTColumnCollection.header' instead.\n",
            "  warnings.warn(message, FutureWarning)\n",
            "/usr/local/lib/python3.10/dist-packages/beautifultable/utils.py:125: FutureWarning: 'BeautifulTable.append_row' has been deprecated in 'v1.0.0' and will be removed in 'v1.2.0'. Use 'BTRowCollection.append' instead.\n",
            "  warnings.warn(message, FutureWarning)\n",
            "+---------------+------------------+-------------------+---------------------+\n",
            "|               | # distinct terms | ∆ % from previous | ∆ % from unfiltered |\n",
            "+---------------+------------------+-------------------+---------------------+\n",
            "|  unfiltered   |      98,519      |         -         |          -          |\n",
            "+---------------+------------------+-------------------+---------------------+\n",
            "|  no numbers   |      74,082      |       -24.8       |        -24.8        |\n",
            "+---------------+------------------+-------------------+---------------------+\n",
            "| case folding  |      56,632      |      -23.55       |       -42.52        |\n",
            "+---------------+------------------+-------------------+---------------------+\n",
            "| 30 stopwords  |      56,607      |       -0.04       |       -42.54        |\n",
            "+---------------+------------------+-------------------+---------------------+\n",
            "| 150 stopwords |      56,509      |       -0.17       |       -42.64        |\n",
            "+---------------+------------------+-------------------+---------------------+\n",
            "|    stemmed    |      45,527      |      -19.43       |       -53.79        |\n",
            "+---------------+------------------+-------------------+---------------------+\n",
            "\n",
            "Would you like to conduct an AND query or an OR query? Hit enter for no. [and/or] \n",
            "Would you like to experiment with the Okapi BM25 ranking function? [y/n] n\n"
          ]
        }
      ]
    },
    {
      "cell_type": "code",
      "source": [
        "import subprocess\n",
        "import time\n",
        "import csv\n",
        "import os\n",
        "import matplotlib.pyplot as plt"
      ],
      "metadata": {
        "id": "HqwsC0puOKcD"
      },
      "execution_count": 42,
      "outputs": []
    },
    {
      "cell_type": "code",
      "source": [
        "output_file = os.path.join(SRC_DIR, 'execution_times.csv')"
      ],
      "metadata": {
        "id": "AEA-ulgTWOCR"
      },
      "execution_count": 43,
      "outputs": []
    },
    {
      "cell_type": "code",
      "source": [
        "docs_per_block = 20  # Starting with 20 documents per block\n",
        "results = []  # To store the block size and time taken"
      ],
      "metadata": {
        "id": "CEYxxGeKtg-_"
      },
      "execution_count": 44,
      "outputs": []
    },
    {
      "cell_type": "code",
      "source": [
        "while docs_per_block <= 21578:  # 21578 is the total number of documents\n",
        "    start_time = time.time()\n",
        "\n",
        "    # Construct the command to run main.py with the current number of docs\n",
        "    command = f\"python main.py -d {docs_per_block}\"\n",
        "\n",
        "    # Run the command\n",
        "    process = subprocess.run(command, shell=True, capture_output=True, text=True)\n",
        "\n",
        "    # Calculate elapsed time\n",
        "    elapsed_time = time.time() - start_time\n",
        "\n",
        "    # Log the output and time taken\n",
        "    print(f\"Executed: {command}\")\n",
        "    print(f\"Time taken: {elapsed_time:.2f} seconds\\n\")\n",
        "\n",
        "    # Append results to the list\n",
        "    results.append([docs_per_block, elapsed_time])\n",
        "\n",
        "    # Double the documents per block for the next run\n",
        "    docs_per_block *= 2"
      ],
      "metadata": {
        "colab": {
          "base_uri": "https://localhost:8080/"
        },
        "id": "IA4GtwI-ti3s",
        "outputId": "9b61d160-64b1-4812-d0c9-73142268666b"
      },
      "execution_count": 45,
      "outputs": [
        {
          "output_type": "stream",
          "name": "stdout",
          "text": [
            "Executed: python main.py -d 20\n",
            "Time taken: 173.44 seconds\n",
            "\n",
            "Executed: python main.py -d 40\n",
            "Time taken: 135.88 seconds\n",
            "\n",
            "Executed: python main.py -d 80\n",
            "Time taken: 122.95 seconds\n",
            "\n",
            "Executed: python main.py -d 160\n",
            "Time taken: 109.40 seconds\n",
            "\n",
            "Executed: python main.py -d 320\n",
            "Time taken: 103.93 seconds\n",
            "\n",
            "Executed: python main.py -d 640\n",
            "Time taken: 101.19 seconds\n",
            "\n",
            "Executed: python main.py -d 1280\n",
            "Time taken: 98.41 seconds\n",
            "\n",
            "Executed: python main.py -d 2560\n",
            "Time taken: 102.15 seconds\n",
            "\n",
            "Executed: python main.py -d 5120\n",
            "Time taken: 102.70 seconds\n",
            "\n",
            "Executed: python main.py -d 10240\n",
            "Time taken: 97.53 seconds\n",
            "\n",
            "Executed: python main.py -d 20480\n",
            "Time taken: 98.72 seconds\n",
            "\n"
          ]
        }
      ]
    },
    {
      "cell_type": "code",
      "source": [
        "# Save the results to the CSV file\n",
        "with open(output_file, mode='w', newline='') as file:\n",
        "    writer = csv.writer(file)\n",
        "    writer.writerow(['Documents per Block', 'Time Taken (seconds)'])\n",
        "    writer.writerows(results)\n",
        "\n",
        "print(f\"Results saved in {output_file}\")"
      ],
      "metadata": {
        "colab": {
          "base_uri": "https://localhost:8080/"
        },
        "id": "0XqbYR7HtnNc",
        "outputId": "e76c4035-874f-49c6-e1ed-4397e6f9e27e"
      },
      "execution_count": 46,
      "outputs": [
        {
          "output_type": "stream",
          "name": "stdout",
          "text": [
            "Results saved in /content/drive/MyDrive/CSE 419/Lab Assign-5/src/execution_times.csv\n"
          ]
        }
      ]
    },
    {
      "cell_type": "code",
      "source": [
        "documents = [row[0] for row in results]\n",
        "times = [row[1] for row in results]"
      ],
      "metadata": {
        "id": "eCpROL22tuP2"
      },
      "execution_count": 47,
      "outputs": []
    },
    {
      "cell_type": "code",
      "source": [
        "plt.plot(documents, times, marker='o')\n",
        "plt.title('Block Count vs Time (AP21110011352)')\n",
        "plt.xlabel('Documents per Block')\n",
        "plt.ylabel('Time Taken (seconds)')\n",
        "plt.grid(True)\n",
        "plt.savefig(os.path.join(SRC_DIR, 'block_count_vs_time_plot.png'))\n",
        "plt.show()"
      ],
      "metadata": {
        "colab": {
          "base_uri": "https://localhost:8080/",
          "height": 472
        },
        "id": "0LM35-CQ4HL6",
        "outputId": "27bf1ade-5396-45a0-cb43-574c368c72b8"
      },
      "execution_count": 50,
      "outputs": [
        {
          "output_type": "display_data",
          "data": {
            "text/plain": [
              "<Figure size 640x480 with 1 Axes>"
            ],
            "image/png": "[encoded data removed]"
          },
          "metadata": {}
        }
      ]
    },
    {
      "cell_type": "code",
      "source": [
        "SRC_DIR = '/content/drive/MyDrive/CSE 419/Lab Assign-5/src_2'\n",
        "\n",
        "import sys\n",
        "sys.path.append(SRC_DIR)"
      ],
      "metadata": {
        "id": "_U3nTrwQ9zsD"
      },
      "execution_count": 56,
      "outputs": []
    },
    {
      "cell_type": "code",
      "source": [
        "%cd /content/drive/MyDrive/CSE 419/Lab Assign-5/src_2"
      ],
      "metadata": {
        "colab": {
          "base_uri": "https://localhost:8080/"
        },
        "id": "3OTAtISz90yk",
        "outputId": "43824f39-e12e-4161-fb42-e13425c59ca5"
      },
      "execution_count": 57,
      "outputs": [
        {
          "output_type": "stream",
          "name": "stdout",
          "text": [
            "/content/drive/MyDrive/CSE 419/Lab Assign-5/src_2\n"
          ]
        }
      ]
    },
    {
      "cell_type": "code",
      "source": [
        "!python main.py"
      ],
      "metadata": {
        "colab": {
          "base_uri": "https://localhost:8080/"
        },
        "id": "l13SK6h9CnTb",
        "outputId": "e496a4c3-e372-4a9b-b465-9e2843fcee1d"
      },
      "execution_count": 58,
      "outputs": [
        {
          "output_type": "stream",
          "name": "stdout",
          "text": [
            "Parsing text files...\n",
            "Found 1,000 documents and 478,317 tokens. 2 block file(s) will be generated.\n",
            "\n",
            "Parsing text files...\n",
            "Found 2,000 documents and 956,634 tokens. 4 block file(s) will be generated.\n",
            "\n",
            "/usr/local/lib/python3.10/dist-packages/beautifultable/utils.py:125: FutureWarning: 'BeautifulTable.column_headers' has been deprecated in 'v1.0.0' and will be removed in 'v1.2.0'. Use 'BTColumnCollection.header' instead.\n",
            "  warnings.warn(message, FutureWarning)\n",
            "/usr/local/lib/python3.10/dist-packages/beautifultable/utils.py:125: FutureWarning: 'BeautifulTable.append_row' has been deprecated in 'v1.0.0' and will be removed in 'v1.2.0'. Use 'BTRowCollection.append' instead.\n",
            "  warnings.warn(message, FutureWarning)\n",
            "+---------------+------------------+-------------------+---------------------+\n",
            "|               | # distinct terms | ∆ % from previous | ∆ % from unfiltered |\n",
            "+---------------+------------------+-------------------+---------------------+\n",
            "|  unfiltered   |      38,703      |         -         |          -          |\n",
            "+---------------+------------------+-------------------+---------------------+\n",
            "|  no numbers   |      37,062      |       -4.24       |        -4.24        |\n",
            "+---------------+------------------+-------------------+---------------------+\n",
            "| case folding  |      32,026      |      -13.59       |       -17.25        |\n",
            "+---------------+------------------+-------------------+---------------------+\n",
            "| 30 stopwords  |      32,000      |       -0.08       |       -17.32        |\n",
            "+---------------+------------------+-------------------+---------------------+\n",
            "| 150 stopwords |      31,896      |       -0.33       |       -17.59        |\n",
            "+---------------+------------------+-------------------+---------------------+\n",
            "|    stemmed    |      24,075      |      -24.52       |        -37.8        |\n",
            "+---------------+------------------+-------------------+---------------------+\n",
            "\n",
            "Would you like to conduct an AND query or an OR query? Hit enter for no. [and/or] \n",
            "Would you like to experiment with the Okapi BM25 ranking function? [y/n] n\n"
          ]
        }
      ]
    },
    {
      "cell_type": "code",
      "source": [
        "output_file = os.path.join(SRC_DIR, 'execution_task_2.csv')"
      ],
      "metadata": {
        "id": "eS7HBI22Cp4t"
      },
      "execution_count": 59,
      "outputs": []
    },
    {
      "cell_type": "code",
      "source": [
        "docs_per_block = 10  # Starting with 10 documents per block\n",
        "max_docs = 1000  # Maximum number of documents\n",
        "results = []  # To store the block size and time taken"
      ],
      "metadata": {
        "id": "ZUUfwkDSDfLD"
      },
      "execution_count": 60,
      "outputs": []
    },
    {
      "cell_type": "code",
      "source": [
        "while docs_per_block <= max_docs:\n",
        "    start_time = time.time()\n",
        "\n",
        "    # Construct the command to run main.py with the current number of docs\n",
        "    command = f\"python main.py -d {docs_per_block}\"\n",
        "\n",
        "    # Run the command\n",
        "    process = subprocess.run(command, shell=True, capture_output=True, text=True)\n",
        "\n",
        "    # Calculate elapsed time\n",
        "    elapsed_time = time.time() - start_time\n",
        "\n",
        "    # Log the output and time taken\n",
        "    print(f\"Executed: {command}\")\n",
        "    print(f\"Time taken: {elapsed_time:.2f} seconds\\n\")\n",
        "\n",
        "    # Append results to the list\n",
        "    results.append([docs_per_block, elapsed_time])\n",
        "\n",
        "    # Double the documents per block for the next run\n",
        "    docs_per_block *= 2"
      ],
      "metadata": {
        "colab": {
          "base_uri": "https://localhost:8080/"
        },
        "id": "8T9TxhmHDg62",
        "outputId": "244c2ed2-ff1a-4a3d-a511-f7ebb3d71940"
      },
      "execution_count": 61,
      "outputs": [
        {
          "output_type": "stream",
          "name": "stdout",
          "text": [
            "Executed: python main.py -d 10\n",
            "Time taken: 52.43 seconds\n",
            "\n",
            "Executed: python main.py -d 20\n",
            "Time taken: 42.27 seconds\n",
            "\n",
            "Executed: python main.py -d 40\n",
            "Time taken: 34.03 seconds\n",
            "\n",
            "Executed: python main.py -d 80\n",
            "Time taken: 47.57 seconds\n",
            "\n",
            "Executed: python main.py -d 160\n",
            "Time taken: 31.83 seconds\n",
            "\n",
            "Executed: python main.py -d 320\n",
            "Time taken: 33.45 seconds\n",
            "\n",
            "Executed: python main.py -d 640\n",
            "Time taken: 43.38 seconds\n",
            "\n"
          ]
        }
      ]
    },
    {
      "cell_type": "code",
      "source": [
        "# Save the results to the CSV file\n",
        "with open(output_file, mode='w', newline='') as file:\n",
        "    writer = csv.writer(file)\n",
        "    writer.writerow(['Documents per Block', 'Time Taken (seconds)'])\n",
        "    writer.writerows(results)\n",
        "\n",
        "print(f\"Results saved in {output_file}\")"
      ],
      "metadata": {
        "colab": {
          "base_uri": "https://localhost:8080/"
        },
        "id": "jkUB7mUIDmzj",
        "outputId": "01120bb8-f73e-4247-9e53-747f9dc19db4"
      },
      "execution_count": 62,
      "outputs": [
        {
          "output_type": "stream",
          "name": "stdout",
          "text": [
            "Results saved in /content/drive/MyDrive/CSE 419/Lab Assign-5/src_2/execution_task_2.csv\n"
          ]
        }
      ]
    },
    {
      "cell_type": "code",
      "source": [
        "block_counts = [row[0] for row in results]\n",
        "times = [row[1] for row in results]\n",
        "plt.plot(block_counts, times, marker='o')\n",
        "plt.title('Block Count vs Time (RollNo: AP21110011352)')\n",
        "plt.xlabel('Documents per Block')\n",
        "plt.ylabel('Time Taken (seconds)')\n",
        "plt.grid(True)\n",
        "plt.savefig(os.path.join(SRC_DIR, 'block_count_vs_time_task_2_plot.png'))\n",
        "plt.show()"
      ],
      "metadata": {
        "colab": {
          "base_uri": "https://localhost:8080/",
          "height": 472
        },
        "id": "GCJ55_HuDp5l",
        "outputId": "2ca6067a-0e7a-4bfc-9356-4469efc338eb"
      },
      "execution_count": 63,
      "outputs": [
        {
          "output_type": "display_data",
          "data": {
            "text/plain": [
              "<Figure size 640x480 with 1 Axes>"
            ],
            "image/png": "[encoded data removed]"
          },
          "metadata": {}
        }
      ]
    },
    {
      "cell_type": "code",
      "source": [],
      "metadata": {
        "id": "5sU2vBaYFEar"
      },
      "execution_count": null,
      "outputs": []
    }
  ]
}