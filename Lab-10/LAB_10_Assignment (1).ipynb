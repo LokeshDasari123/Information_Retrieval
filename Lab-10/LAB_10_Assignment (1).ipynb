{
  "cells": [
    {
      "cell_type": "markdown",
      "id": "98d3e199",
      "metadata": {
        "id": "98d3e199"
      },
      "source": [
        "## Lab 10 Assignment: Various Evaluation Metrices\n",
        "\n",
        "- AP21110011369 - Anantha Teja Dasari"
      ]
    },
    {
      "cell_type": "markdown",
      "id": "f2cff553",
      "metadata": {
        "id": "f2cff553"
      },
      "source": [
        "<h4>\n",
        "    \n",
        "Task 01: Create a Python function that takes precision and recall as inputs and returns arithmetic mean, Geometric mean and Harmonic mean.  <br />\n",
        "[Execute your code on 2-3 examples inputs]\n",
        "<br />\n",
        "<br />\n",
        "\n",
        "Task 02: You are given a ranked list of N search results for the query \"machine learning tutorials\". Each result is marked as relevant (1) or irrelevant (0).\n",
        "\n",
        "Example:-\n",
        "Ranked Results (1=relevant, 0=irrelevant):\n",
        "[1, 0, 1, 1, 0, 0, 1, 1, 0, 1, 0, 0, 1, 0, 1]\n",
        "\n",
        "Implement a Python function that takes a list (size N) of relevance scores and a K value as input and returns Precision@K. <br />\n",
        "[Execute your code on 2-3 examples inputs]\n",
        "<br />\n",
        "<br />\n",
        "    \n",
        "Task 03: You are evaluating three different ranking algorithms (A, B, C) for a movie recommendation system. Each movie's relevance is rated on a scale of 0-5, where 5 indicates perfect relevance and 0 indicates irrelevant. <br />\n",
        "    \n",
        "    \n",
        "example:\n",
        "    \n",
        "User Query: \"Science Fiction Action Movies\"\n",
        "\n",
        "Algorithm A Rankings (relevance scores):\n",
        "[5, 4, 4, 3, 2, 1, 0, 3, 2, 1]\n",
        "\n",
        "Algorithm B Rankings (relevance scores):\n",
        "[3, 5, 4, 4, 3, 2, 2, 1, 1, 0]\n",
        "\n",
        "Algorithm C Rankings (relevance scores):\n",
        "[4, 4, 5, 3, 3, 2, 2, 1, 0, 1]\n",
        "    \n",
        "Implement a Python function: <br />\n",
        "<br />\n",
        "    1. Takes input: <br />\n",
        "        1.1: Number of Algorithms to be evaluated & rating scale.<br />\n",
        "        1.2: Relevance scores for each Algorithm. <br />\n",
        "        1.3: Value of K\n",
        "    \n",
        "2. calculate DCG@K for each algorithm (K will be given by the user)\n",
        "</h4>"
      ]
    },
    {
      "cell_type": "code",
      "execution_count": 40,
      "id": "6e220073",
      "metadata": {
        "id": "6e220073"
      },
      "outputs": [],
      "source": [
        "def precision_recall(precision, recall):\n",
        "\n",
        "  print(\"Arithmetic Mean: \", (precision + recall) / 2)\n",
        "  print(\"Geometric Mean: \", (precision * recall) ** 0.5)\n",
        "  print(\"Harmonic Mean: \", 2 * (precision * recall) / (precision + recall))\n"
      ]
    },
    {
      "cell_type": "code",
      "source": [
        "def precision_at_k(ranked_results, k):\n",
        "    relevant_at_k = ranked_results[:k]\n",
        "    precision = sum(relevant_at_k) / k\n",
        "    return precision"
      ],
      "metadata": {
        "id": "VmR4E5iRaYa9"
      },
      "id": "VmR4E5iRaYa9",
      "execution_count": 41,
      "outputs": []
    },
    {
      "cell_type": "code",
      "source": [
        "import math\n",
        "\n",
        "def dcg_at_k(relevance_scores, k):\n",
        "    dcg = 0.0\n",
        "    for i in range(k):\n",
        "        dcg += relevance_scores[i] / math.log2(i + 2)\n",
        "    return dcg"
      ],
      "metadata": {
        "id": "s7KnDdcUjJCg"
      },
      "id": "s7KnDdcUjJCg",
      "execution_count": 42,
      "outputs": []
    },
    {
      "cell_type": "code",
      "source": [
        "n = int(input(\"No of times to work each function: \"))"
      ],
      "metadata": {
        "colab": {
          "base_uri": "https://localhost:8080/"
        },
        "id": "aa_XFhS3fpeQ",
        "outputId": "f4892e72-efa3-44b3-a4e3-f9735fe1e41d"
      },
      "id": "aa_XFhS3fpeQ",
      "execution_count": 43,
      "outputs": [
        {
          "name": "stdout",
          "output_type": "stream",
          "text": [
            "No of times to work each function: 3\n"
          ]
        }
      ]
    },
    {
      "cell_type": "code",
      "source": [
        "for i in range(n):\n",
        "  print()\n",
        "  precision= eval(input(\"Precision: \"))\n",
        "  recall=eval(input(\"Recall: \"))\n",
        "  precision_recall(precision,recall)\n",
        "  print()"
      ],
      "metadata": {
        "colab": {
          "base_uri": "https://localhost:8080/"
        },
        "id": "3F52EJP_a3m1",
        "outputId": "4118758e-acec-4e94-f451-dc4e93b75569"
      },
      "id": "3F52EJP_a3m1",
      "execution_count": 44,
      "outputs": [
        {
          "output_type": "stream",
          "name": "stdout",
          "text": [
            "\n",
            "Precision: 379\n",
            "Recall: 361\n",
            "Arithmetic Mean:  370.0\n",
            "Geometric Mean:  369.8905243447039\n",
            "Harmonic Mean:  369.7810810810811\n",
            "\n",
            "\n",
            "Precision: 1.21\n",
            "Recall: 122.2\n",
            "Arithmetic Mean:  61.705\n",
            "Geometric Mean:  12.15985197278322\n",
            "Harmonic Mean:  2.3962725873105906\n",
            "\n",
            "\n",
            "Precision: 17.6\n",
            "Recall: 10.5\n",
            "Arithmetic Mean:  14.05\n",
            "Geometric Mean:  13.594116374373144\n",
            "Harmonic Mean:  13.153024911032029\n",
            "\n"
          ]
        }
      ]
    },
    {
      "cell_type": "markdown",
      "source": [
        "\n",
        "- Inputs <br/>\n",
        "\n",
        "[1, 0, 1, 1, 0, 0, 1, 1, 0, 1]     , 5 <br/>\n",
        "[1, 1, 0, 0, 1, 1, 0, 0, 0, 1] , 3\n",
        "<br/>\n",
        "[0, 1, 1, 0, 1, 1, 1, 1, 1, 0]  ,  7"
      ],
      "metadata": {
        "id": "WUx8OXJegCm6"
      },
      "id": "WUx8OXJegCm6"
    },
    {
      "cell_type": "code",
      "source": [
        "for i in range(n):\n",
        "  l = eval(input(\"list of relavent scores: \"))\n",
        "  k = int(input(\"Value of K: \"))\n",
        "  print(f\"Precision@K for test case {i + 1}: {precision_at_k(l, k)} \\n\")"
      ],
      "metadata": {
        "colab": {
          "base_uri": "https://localhost:8080/"
        },
        "id": "RpskgnzbfhEG",
        "outputId": "80bc6f3d-e719-47c2-b271-de0c9f7de5d5"
      },
      "id": "RpskgnzbfhEG",
      "execution_count": 45,
      "outputs": [
        {
          "output_type": "stream",
          "name": "stdout",
          "text": [
            "list of relavent scores: [1, 0, 1, 1, 0, 0, 1, 1, 0, 1] \n",
            "Value of K: 5\n",
            "Precision@K for test case 1: 0.6 \n",
            "\n",
            "list of relavent scores: [1, 1, 0, 0, 1, 1, 0, 0, 0, 1]\n",
            "Value of K: 3\n",
            "Precision@K for test case 2: 0.6666666666666666 \n",
            "\n",
            "list of relavent scores: [0, 1, 1, 0, 1, 1, 1, 1, 1, 0]\n",
            "Value of K: 5\n",
            "Precision@K for test case 3: 0.6 \n",
            "\n"
          ]
        }
      ]
    },
    {
      "cell_type": "markdown",
      "source": [
        "relevance_a = [5, 4, 4, 3, 2, 1, 0, 3, 2, 1]<br/>\n",
        "relevance_b = [3, 5, 4, 4, 3, 2, 2, 1, 1, 0]<br/>\n",
        "relevance_c = [4, 4, 5, 3, 3, 2, 2, 1, 0, 1]<br/>"
      ],
      "metadata": {
        "id": "1AgbgJUZkUpA"
      },
      "id": "1AgbgJUZkUpA"
    },
    {
      "cell_type": "code",
      "source": [
        "\n",
        "for i in range(n):\n",
        "    relevance_scores = eval(input(\"List of relevance scores (in list format): \"))\n",
        "    k = int(input(\"Value of K: \"))\n",
        "\n",
        "    print(f\"DCG@K for test case {i + 1}: {dcg_at_k(relevance_scores, k)} \\n\")"
      ],
      "metadata": {
        "colab": {
          "base_uri": "https://localhost:8080/"
        },
        "id": "d7ay_wdsjrA2",
        "outputId": "06c4142f-c7aa-4fac-8557-59a4c4fd7004"
      },
      "id": "d7ay_wdsjrA2",
      "execution_count": 46,
      "outputs": [
        {
          "output_type": "stream",
          "name": "stdout",
          "text": [
            "List of relevance scores (in list format): [5, 4, 4, 3, 2, 1, 0, 3, 2, 1]\n",
            "Value of K: 5\n",
            "DCG@K for test case 1: 11.589454302975094 \n",
            "\n",
            "List of relevance scores (in list format): [3, 5, 4, 4, 3, 2, 2, 1, 1, 0]\n",
            "Value of K: 5\n",
            "DCG@K for test case 2: 11.037913421854483 \n",
            "\n",
            "List of relevance scores (in list format): [4, 4, 5, 3, 3, 2, 2, 1, 0, 1]\n",
            "Value of K: 5\n",
            "DCG@K for test case 3: 11.476307110209635 \n",
            "\n"
          ]
        }
      ]
    }
  ],
  "metadata": {
    "kernelspec": {
      "display_name": "Python 3 (ipykernel)",
      "language": "python",
      "name": "python3"
    },
    "language_info": {
      "codemirror_mode": {
        "name": "ipython",
        "version": 3
      },
      "file_extension": ".py",
      "mimetype": "text/x-python",
      "name": "python",
      "nbconvert_exporter": "python",
      "pygments_lexer": "ipython3",
      "version": "3.11.5"
    },
    "colab": {
      "provenance": []
    }
  },
  "nbformat": 4,
  "nbformat_minor": 5
}