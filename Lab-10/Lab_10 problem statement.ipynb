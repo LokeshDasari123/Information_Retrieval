{
 "cells": [
  {
   "cell_type": "markdown",
   "id": "98d3e199",
   "metadata": {},
   "source": [
    "## Lab 10 Assignment: Various Evaluation Metrices"
   ]
  },
  {
   "cell_type": "markdown",
   "id": "f2cff553",
   "metadata": {},
   "source": [
    "<h4>\n",
    "    \n",
    "Task 01: Create a Python function that takes precision and recall as inputs and returns arithmetic mean, Geometric mean and Harmonic mean.  <br />\n",
    "[Execute your code on 2-3 examples inputs]\n",
    "<br />\n",
    "<br />\n",
    "\n",
    "Task 02: You are given a ranked list of N search results for the query \"machine learning tutorials\". Each result is marked as relevant (1) or irrelevant (0). \n",
    " \n",
    "Example:-\n",
    "Ranked Results (1=relevant, 0=irrelevant):\n",
    "[1, 0, 1, 1, 0, 0, 1, 1, 0, 1, 0, 0, 1, 0, 1]\n",
    "\n",
    "Implement a Python function that takes a list (size N) of relevance scores and a K value as input and returns Precision@K. <br />\n",
    "[Execute your code on 2-3 examples inputs]\n",
    "<br />\n",
    "<br />\n",
    "    \n",
    "Task 03: You are evaluating three different ranking algorithms (A, B, C) for a movie recommendation system. Each movie's relevance is rated on a scale of 0-5, where 5 indicates perfect relevance and 0 indicates irrelevant. <br />\n",
    "    \n",
    "    \n",
    "example:\n",
    "    \n",
    "User Query: \"Science Fiction Action Movies\"\n",
    "\n",
    "Algorithm A Rankings (relevance scores):\n",
    "[5, 4, 4, 3, 2, 1, 0, 3, 2, 1]\n",
    "\n",
    "Algorithm B Rankings (relevance scores):\n",
    "[3, 5, 4, 4, 3, 2, 2, 1, 1, 0]\n",
    "\n",
    "Algorithm C Rankings (relevance scores):\n",
    "[4, 4, 5, 3, 3, 2, 2, 1, 0, 1]\n",
    "    \n",
    "Implement a Python function: <br />\n",
    "<br />\n",
    "    1. Takes input: <br />\n",
    "        1.1: Number of Algorithms to be evaluated & rating scale.<br />\n",
    "        1.2: Relevance scores for each Algorithm. <br />\n",
    "        1.3: Value of K\n",
    "    \n",
    "2. calculate DCG@K for each algorithm (K will be given by the user)\n",
    "</h4>"
   ]
  },
  {
   "cell_type": "code",
   "execution_count": null,
   "id": "6e220073",
   "metadata": {},
   "outputs": [],
   "source": []
  }
 ],
 "metadata": {
  "kernelspec": {
   "display_name": "Python 3 (ipykernel)",
   "language": "python",
   "name": "python3"
  },
  "language_info": {
   "codemirror_mode": {
    "name": "ipython",
    "version": 3
   },
   "file_extension": ".py",
   "mimetype": "text/x-python",
   "name": "python",
   "nbconvert_exporter": "python",
   "pygments_lexer": "ipython3",
   "version": "3.11.5"
  }
 },
 "nbformat": 4,
 "nbformat_minor": 5
}
