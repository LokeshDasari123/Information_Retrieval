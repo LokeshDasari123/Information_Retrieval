{
  "nbformat": 4,
  "nbformat_minor": 0,
  "metadata": {
    "colab": {
      "provenance": []
    },
    "kernelspec": {
      "name": "python3",
      "display_name": "Python 3"
    },
    "language_info": {
      "name": "python"
    }
  },
  "cells": [
    {
      "cell_type": "markdown",
      "source": [
        "<h4>\n",
        "    \n",
        "Task 01: Create a Python function that takes precision and recall as inputs and returns arithmetic mean, Geometric mean and Harmonic mean.  <br />\n",
        "[Execute your code on 2-3 examples inputs]\n",
        "<br />\n",
        "<br />\n",
        "\n",
        "Task 02: You are given a ranked list of N search results for the query \"machine learning tutorials\". Each result is marked as relevant (1) or irrelevant (0).\n",
        "\n",
        "Example:-\n",
        "Ranked Results (1=relevant, 0=irrelevant):\n",
        "[1, 0, 1, 1, 0, 0, 1, 1, 0, 1, 0, 0, 1, 0, 1]\n",
        "\n",
        "Implement a Python function that takes a list (size N) of relevance scores and a K value as input and returns Precision@K. <br />\n",
        "[Execute your code on 2-3 examples inputs]\n",
        "<br />\n",
        "<br />\n",
        "    \n",
        "Task 03: You are evaluating three different ranking algorithms (A, B, C) for a movie recommendation system. Each movie's relevance is rated on a scale of 0-5, where 5 indicates perfect relevance and 0 indicates irrelevant. <br />\n",
        "    \n",
        "    \n",
        "example:\n",
        "    \n",
        "User Query: \"Science Fiction Action Movies\"\n",
        "\n",
        "Algorithm A Rankings (relevance scores):\n",
        "[5, 4, 4, 3, 2, 1, 0, 3, 2, 1]\n",
        "\n",
        "Algorithm B Rankings (relevance scores):\n",
        "[3, 5, 4, 4, 3, 2, 2, 1, 1, 0]\n",
        "\n",
        "Algorithm C Rankings (relevance scores):\n",
        "[4, 4, 5, 3, 3, 2, 2, 1, 0, 1]\n",
        "    \n",
        "Implement a Python function: <br />\n",
        "<br />\n",
        "    1. Takes input: <br />\n",
        "        1.1: Number of Algorithms to be evaluated & rating scale.<br />\n",
        "        1.2: Relevance scores for each Algorithm. <br />\n",
        "        1.3: Value of K\n",
        "    \n",
        "2. calculate DCG@K for each algorithm (K will be given by the user)\n",
        "</h4>"
      ],
      "metadata": {
        "id": "TtF4vrq_i0aU"
      }
    },
    {
      "cell_type": "markdown",
      "source": [
        "### Task-1"
      ],
      "metadata": {
        "id": "wAmXaQ7qjBLE"
      }
    },
    {
      "cell_type": "code",
      "execution_count": 5,
      "metadata": {
        "id": "jkhL2AKkizQA"
      },
      "outputs": [],
      "source": [
        "import math\n",
        "\n",
        "def calculate_means(precision,recall):\n",
        "  ar_mean = (precision+recall)/2\n",
        "  print(\"arithmetic mean = \",ar_mean)\n",
        "\n",
        "  geo_mean = math.sqrt(precision*recall)\n",
        "  print(\"geometric mean = \",geo_mean)\n",
        "\n",
        "  if precision + recall != 0:\n",
        "    har_mean = 2* (precision * recall) / (precision + recall)\n",
        "  else:\n",
        "    har_mean = 0\n",
        "  print(\"harmonic mean = \",har_mean)\n"
      ]
    },
    {
      "cell_type": "code",
      "source": [
        "calculate_means(0.7,0.5)"
      ],
      "metadata": {
        "colab": {
          "base_uri": "https://localhost:8080/"
        },
        "id": "yN0TLyg6kLvj",
        "outputId": "efa107fe-f859-4c9f-ca69-f91601e505af"
      },
      "execution_count": 6,
      "outputs": [
        {
          "output_type": "stream",
          "name": "stdout",
          "text": [
            "arithmetic mean =  0.6\n",
            "geometric mean =  0.5916079783099616\n",
            "harmonic mean =  0.5833333333333334\n"
          ]
        }
      ]
    },
    {
      "cell_type": "code",
      "source": [
        "while True:\n",
        "  p = float(input(\"Enter Precision: \"))\n",
        "  r = float(input(\"Enter Recall: \"))\n",
        "  calculate_means(p,r)\n",
        "  n = input(\"\\ncontinue? (y/n): \")\n",
        "  if n == 'n':\n",
        "    break"
      ],
      "metadata": {
        "colab": {
          "base_uri": "https://localhost:8080/"
        },
        "id": "Gp8XLUZjnqfR",
        "outputId": "456453af-f2a4-416c-a6eb-5c52d18ea521"
      },
      "execution_count": 27,
      "outputs": [
        {
          "name": "stdout",
          "output_type": "stream",
          "text": [
            "Enter Precision: 0.8\n",
            "Enter Recall: 0.6\n",
            "arithmetic mean =  0.7\n",
            "geometric mean =  0.6928203230275509\n",
            "harmonic mean =  0.6857142857142857\n",
            "\n",
            "continue? (y/n): y\n",
            "Enter Precision: 0.9\n",
            "Enter Recall: 0.7\n",
            "arithmetic mean =  0.8\n",
            "geometric mean =  0.7937253933193772\n",
            "harmonic mean =  0.7875\n",
            "\n",
            "continue? (y/n): y\n",
            "Enter Precision: 3.54\n",
            "Enter Recall: 2.19\n",
            "arithmetic mean =  2.865\n",
            "geometric mean =  2.7843491160413056\n",
            "harmonic mean =  2.7059685863874345\n",
            "\n",
            "continue? (y/n): n\n"
          ]
        }
      ]
    },
    {
      "cell_type": "markdown",
      "source": [
        "### Task-2"
      ],
      "metadata": {
        "id": "ZHeLmQMYk22A"
      }
    },
    {
      "cell_type": "code",
      "source": [
        "def precision_at_k(relevance_scores,k):\n",
        "  if k > len(relevance_scores):\n",
        "    k = len(relevance_scores)\n",
        "  relevant_at_k = relevance_scores[:k]\n",
        "  precision = sum(relevant_at_k)/k\n",
        "  return precision\n"
      ],
      "metadata": {
        "id": "gvEn5Fhak1A7"
      },
      "execution_count": 9,
      "outputs": []
    },
    {
      "cell_type": "code",
      "source": [
        "while True:\n",
        "  l = eval(input(\"Enter the list of relevance scores: \"))\n",
        "  k = int(input(\"Enter value of K: \"))\n",
        "  print(\"Precision at K is : \",precision_at_k(l,k))\n",
        "  print()\n",
        "  n = input(\"\\n continue? (y/n): \")\n",
        "  if n == 'n':\n",
        "    break"
      ],
      "metadata": {
        "colab": {
          "base_uri": "https://localhost:8080/"
        },
        "id": "vptDJon0lmil",
        "outputId": "fc2b11e7-17ae-4688-b4f5-c4ef73494ca7"
      },
      "execution_count": 29,
      "outputs": [
        {
          "name": "stdout",
          "output_type": "stream",
          "text": [
            "Enter the list of relevance scores: [1, 0, 1, 1, 0, 0, 1, 1, 0, 1, 0, 0, 1, 0, 1]\n",
            "Enter value of K: 8\n",
            "Precision at K is :  0.625\n",
            "\n",
            "\n",
            " continue? (y/n): y\n",
            "Enter the list of relevance scores: [1, 1, 1, 0, 1, 1, 0, 0, 0, 1]\n",
            "Enter value of K: 5\n",
            "Precision at K is :  0.8\n",
            "\n",
            "\n",
            " continue? (y/n): y\n",
            "Enter the list of relevance scores: [0,1,0,0,0,1,1,0]\n",
            "Enter value of K: 3\n",
            "Precision at K is :  0.3333333333333333\n",
            "\n",
            "\n",
            " continue? (y/n): n\n"
          ]
        }
      ]
    },
    {
      "cell_type": "markdown",
      "source": [
        "### Task-3"
      ],
      "metadata": {
        "id": "Et9rxBOwmVlY"
      }
    },
    {
      "cell_type": "code",
      "source": [
        "def dcg_at_k(relevance_scores,k):\n",
        "  dcg = 0\n",
        "  for i in range(k):\n",
        "    dcg += relevance_scores[i] / math.log2(i+2)\n",
        "  return dcg"
      ],
      "metadata": {
        "id": "KsooubcKl1mq"
      },
      "execution_count": 16,
      "outputs": []
    },
    {
      "cell_type": "code",
      "source": [
        "while True:\n",
        "  relevance = eval(input(\"Enter the list of relevance scores (in list format): \"))\n",
        "  k = int(input(\"Enter value of K: \"))\n",
        "  print(\"DCG at K is : \",dcg_at_k(relevance,k))\n",
        "  print()\n",
        "  n = input(\"\\n continue? (y/n): \")\n",
        "  if n == 'n':\n",
        "    break"
      ],
      "metadata": {
        "colab": {
          "base_uri": "https://localhost:8080/"
        },
        "id": "W2_SwGLEtIVy",
        "outputId": "8f4693e5-f8a6-4543-9ed3-a00607a651bc"
      },
      "execution_count": 32,
      "outputs": [
        {
          "name": "stdout",
          "output_type": "stream",
          "text": [
            "Enter the list of relevance scores (in list format): [5, 4, 4, 3, 2, 1, 0, 3, 2, 1]\n",
            "Enter value of K: 5\n",
            "DCG at K is :  11.589454302975094\n",
            "\n",
            "\n",
            " continue? (y/n): y\n",
            "Enter the list of relevance scores (in list format): [3, 5, 4, 4, 3, 2, 2, 1, 1, 0]\n",
            "Enter value of K: 5\n",
            "DCG at K is :  11.037913421854483\n",
            "\n",
            "\n",
            " continue? (y/n): y\n",
            "Enter the list of relevance scores (in list format): [4, 4, 5, 3, 3, 2, 2, 1, 0, 1]\n",
            "Enter value of K: 5\n",
            "DCG at K is :  11.476307110209635\n",
            "\n",
            "\n",
            " continue? (y/n): n\n"
          ]
        }
      ]
    },
    {
      "cell_type": "code",
      "source": [],
      "metadata": {
        "id": "FRlaOpxcs5qF"
      },
      "execution_count": null,
      "outputs": []
    }
  ]
}