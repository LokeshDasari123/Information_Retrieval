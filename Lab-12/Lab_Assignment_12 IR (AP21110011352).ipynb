{
  "nbformat": 4,
  "nbformat_minor": 0,
  "metadata": {
    "colab": {
      "provenance": []
    },
    "kernelspec": {
      "name": "python3",
      "display_name": "Python 3"
    },
    "language_info": {
      "name": "python"
    }
  },
  "cells": [
    {
      "cell_type": "code",
      "execution_count": 1,
      "metadata": {
        "id": "zHgMs5pyeYu9"
      },
      "outputs": [],
      "source": [
        "import os\n",
        "import math\n",
        "import numpy as np\n",
        "import pandas as pd\n",
        "from collections import defaultdict,Counter"
      ]
    },
    {
      "cell_type": "code",
      "source": [
        "import nltk\n",
        "nltk.download('all')"
      ],
      "metadata": {
        "id": "Mg6wQ38YfzTh"
      },
      "execution_count": null,
      "outputs": []
    },
    {
      "cell_type": "code",
      "source": [
        "from nltk.corpus import stopwords\n",
        "from nltk.tokenize import word_tokenize"
      ],
      "metadata": {
        "id": "2mbcDP4Wf11B"
      },
      "execution_count": 3,
      "outputs": []
    },
    {
      "cell_type": "markdown",
      "source": [
        "### Task-1: Read and perform text preprocessing"
      ],
      "metadata": {
        "id": "i3rhFCw8isYD"
      }
    },
    {
      "cell_type": "code",
      "source": [
        "folder_path = '/content/drive/MyDrive/CSE 419/Lab Assign-4/1000_documents'"
      ],
      "metadata": {
        "id": "Q-MbMROhgQue"
      },
      "execution_count": 4,
      "outputs": []
    },
    {
      "cell_type": "code",
      "source": [
        "from nltk.tokenize import wordpunct_tokenize\n",
        "import re"
      ],
      "metadata": {
        "id": "fgTg679BkacT"
      },
      "execution_count": 5,
      "outputs": []
    },
    {
      "cell_type": "code",
      "source": [
        "stop_words = set(stopwords.words('english'))\n",
        "documents = []\n",
        "labels = []"
      ],
      "metadata": {
        "id": "1tkh0yPPgTDo"
      },
      "execution_count": 6,
      "outputs": []
    },
    {
      "cell_type": "code",
      "source": [],
      "metadata": {
        "id": "JyZ_ZdL0pJ4J"
      },
      "execution_count": 6,
      "outputs": []
    },
    {
      "cell_type": "code",
      "source": [
        "for filename in os.listdir(folder_path):\n",
        "  with open(os.path.join(folder_path,filename),'r') as file:\n",
        "    text =file.read().lower()\n",
        "    text = re.sub(r'\\W+',' ',text) #remove punctuation\n",
        "    words = word_tokenize(text)\n",
        "    words = [word for word in words if word not in stop_words]\n",
        "    documents.append(words)\n",
        "    label = filename.split('_')[0]\n",
        "    labels.append(label)"
      ],
      "metadata": {
        "id": "xKFUxU3zjdbu"
      },
      "execution_count": 7,
      "outputs": []
    },
    {
      "cell_type": "code",
      "source": [
        "print(len(documents))\n",
        "print(len(labels))"
      ],
      "metadata": {
        "colab": {
          "base_uri": "https://localhost:8080/"
        },
        "id": "yf9tb-pRlCqD",
        "outputId": "a4f5fdfd-a6f9-4b0a-e0bb-100c5615caee"
      },
      "execution_count": 8,
      "outputs": [
        {
          "output_type": "stream",
          "name": "stdout",
          "text": [
            "1000\n",
            "1000\n"
          ]
        }
      ]
    },
    {
      "cell_type": "code",
      "source": [
        "print(documents[0])\n",
        "print(labels[0])"
      ],
      "metadata": {
        "colab": {
          "base_uri": "https://localhost:8080/"
        },
        "id": "ldTTQjy3oN1M",
        "outputId": "a91ee1c5-1682-4f29-c681-9061c28bee7e"
      },
      "execution_count": 9,
      "outputs": [
        {
          "output_type": "stream",
          "name": "stdout",
          "text": [
            "['saab', 'build', 'cadillacs', 'sweden', 'general', 'motors', 'world', 'largest', 'car', 'maker', 'confirmed', 'build', 'new', 'medium', 'sized', 'cadillac', 'bls', 'loss', 'making', 'saab', 'factory', 'sweden', 'car', 'unveiled', 'geneva', 'motor', 'show', 'intended', 'compete', 'medium', 'sized', 'luxury', 'car', 'market', 'sold', 'us', 'said', 'gm', 'europe', 'president', 'carl', 'peter', 'forster', 'part', 'efforts', 'make', 'us', 'marque', 'appeal', 'european', 'drivers', 'car', 'first', 'cadillac', 'diesel', 'engine', 'gm', 'announcement', 'go', 'way', 'allay', 'fears', 'saab', 'factory', 'closure', 'factory', 'trollhaettan', 'centre', 'rumours', 'gm', 'planned', 'severe', 'cutbacks', 'troubled', 'european', 'operations', 'group', 'new', 'commitment', 'swedish', 'factory', 'may', 'welcomed', 'group', 'opel', 'workers', 'ruesselsheim', 'germany', 'may', 'face', 'larger', 'proportion', 'gm', 'cuts', 'neither', 'announcement', 'seen', 'unalloyed', 'good', 'news', 'sweden', 'since', 'reflects', 'saab', 'failure', 'make', 'significant', 'inroads', 'lucrative', 'european', 'luxury', 'car', 'market', 'years', 'saab', 'consistently', 'said', 'competing', 'head', 'bmw', 'mercedes', 'jaguar', 'segment', 'leaders', 'agree', 'gm', 'plans', 'build', 'american', 'marque', 'sweden', 'part', 'efforts', 'push', 'alternative', 'luxury', 'brand', 'european', 'drivers', 'us', 'long', 'established', 'upmarket', 'brand', 'even', 'presidential', 'limousine', 'carries', 'badge', 'yet', 'could', 'prove', 'tough', 'cadillac', 'steal', 'market', 'share', 'majors', 'europe', 'luxury', 'car', 'makers', 'notably', 'toyota', 'subsidiary', 'lexus', 'enjoyed', 'tremendous', 'success', 'us', 'without', 'managing', 'make', 'significant', 'inroads', 'europe', 'german', 'marques', 'mercedes', 'benz', 'bmw', 'retained', 'stranglehold', 'luxury', 'market', 'bringing', 'cadillac', 'production', 'sweden', 'help', 'introduce', 'desperately', 'needed', 'scale', 'saab', 'factory', 'currently', 'produces', 'fewer', '130', '000', 'cars', 'per', 'year', 'half', 'major', 'car', 'makers', 'consider', 'sufficient', 'numbers', 'profitable', 'operations', 'saab', 'losing', 'money', 'fast', 'albeit', 'losses', 'halved', '2004', '200m', '104m', '151m', 'euros', '500m', 'previous', 'year', 'beyond', '12', '000', 'job', 'cuts', 'announced', 'last', 'year', 'european', 'operations', 'gm', 'reducing', 'expenditure', 'building', 'saabs', 'opels', 'badged', 'vauxhalls', 'uk', 'cadillacs', 'framework', 'allowing', 'different', 'brands', 'share', 'parts', 'another', 'way', 'reduce', 'saab', 'losses', 'could', 'shift', 'production', 'saabs', 'us', 'market', 'drivers', 'adopted', 'upmarket', 'european', 'car', 'would', 'remove', 'exposure', 'weak', 'us', 'dollar', 'making', 'saabs', 'expensive', 'us', 'consumers', 'everyone', 'industry', 'agree', 'would', 'best', 'way', 'forward', 'know', 'five', 'years', 'us', 'dollar', 'stronger', 'today', 'chief', 'executive', 'leading', 'european', 'car', 'maker', 'told', 'bbc', 'news', 'current', 'trend', 'towards', 'us', 'production', 'stupid', 'said', 'separate', 'announcement', 'gm', 'unveiled', 'new', 'scheme', 'allow', 'european', 'consumers', 'chance', 'test', 'drive', 'opel', 'vauxhall', 'models', 'deploy', 'fleet', '35', '000', 'test', 'cars', 'across', '40', 'countries', 'inviting', 'potential', 'buyers', 'try', 'vehicle', '24', 'hours', 'follows', 'similar', 'initiative', 'gm', 'us', 'gm', 'said', 'wanted', 'change', 'customers', 'perceptions', 'opel', 'vauxhall', 'cars', 'showing', 'quality', 'improved', 'recent', 'years']\n",
            "business\n"
          ]
        }
      ]
    },
    {
      "cell_type": "markdown",
      "source": [
        "### Task-2: Split Data, Calculate TF, IDF, and TF-IDF"
      ],
      "metadata": {
        "id": "DqM5HfWNpli7"
      }
    },
    {
      "cell_type": "code",
      "source": [
        "from sklearn.model_selection import train_test_split"
      ],
      "metadata": {
        "id": "cHQG_e25oQPG"
      },
      "execution_count": 10,
      "outputs": []
    },
    {
      "cell_type": "code",
      "source": [
        "train_docs,test_docs,train_labels,test_labels = train_test_split(documents,labels,stratify = labels,test_size = 0.3,random_state = 42)"
      ],
      "metadata": {
        "id": "uNH3po2cpPVH"
      },
      "execution_count": 11,
      "outputs": []
    },
    {
      "cell_type": "code",
      "source": [
        "def calculate_tf(docs):\n",
        "  tf_list = []\n",
        "  for doc in docs:\n",
        "    term_counts = Counter(doc)\n",
        "    doc_length = len(doc)\n",
        "    tf = {term:count/doc_length for term,count in term_counts.items()}\n",
        "    tf_list.append(tf)\n",
        "  return tf_list"
      ],
      "metadata": {
        "id": "dxx-HlS6pe-P"
      },
      "execution_count": 12,
      "outputs": []
    },
    {
      "cell_type": "code",
      "source": [
        "def calculate_idf(docs):\n",
        "  N = len(docs)\n",
        "  all_terms = set([term for doc in docs for term in doc])\n",
        "  idf = {}\n",
        "  for term in all_terms:\n",
        "    doc_count = sum(1 for doc in docs if term in doc)\n",
        "    idf[term] = math.log(N/(1+doc_count))\n",
        "  return idf"
      ],
      "metadata": {
        "id": "9vfOwhfoph7q"
      },
      "execution_count": 13,
      "outputs": []
    },
    {
      "cell_type": "code",
      "source": [
        "# Calculate TF-IDF for each document\n",
        "def calculate_tf_idf(tf_list, idf):\n",
        "    tf_idf_list = []\n",
        "    for tf in tf_list:\n",
        "        tf_idf = {term: tf_val * idf.get(term, 0) for term, tf_val in tf.items()}  # Use idf.get(term, 0) to avoid KeyError\n",
        "        tf_idf_list.append(tf_idf)\n",
        "    return tf_idf_list\n"
      ],
      "metadata": {
        "id": "z0JtUl7Pq6JV"
      },
      "execution_count": 14,
      "outputs": []
    },
    {
      "cell_type": "code",
      "source": [
        "tf_train = calculate_tf(train_docs)"
      ],
      "metadata": {
        "id": "Afd_z0EEtran"
      },
      "execution_count": 15,
      "outputs": []
    },
    {
      "cell_type": "code",
      "source": [
        "idf =calculate_idf(train_docs)"
      ],
      "metadata": {
        "id": "8hm4p1RJENdv"
      },
      "execution_count": 16,
      "outputs": []
    },
    {
      "cell_type": "code",
      "source": [
        "tf_idf_train = calculate_tf_idf(tf_train,idf)"
      ],
      "metadata": {
        "id": "v4ZAbu4-EO8a"
      },
      "execution_count": 17,
      "outputs": []
    },
    {
      "cell_type": "code",
      "source": [
        "tf_idf_train[0]"
      ],
      "metadata": {
        "colab": {
          "base_uri": "https://localhost:8080/"
        },
        "id": "u8ZXZ_5gFFd0",
        "outputId": "4efcc513-ed32-42d6-d479-c8780016df53"
      },
      "execution_count": 18,
      "outputs": [
        {
          "output_type": "execute_result",
          "data": {
            "text/plain": [
              "{'jones': 0.12321738440167893,\n",
              " 'medals': 0.29949348015813965,\n",
              " 'must': 0.022036691743195794,\n",
              " 'go': 0.019357084311250192,\n",
              " 'guilty': 0.12079184780551115,\n",
              " 'world': 0.01311926168683611,\n",
              " 'anti': 0.026657144743588473,\n",
              " 'doping': 0.0763331638950227,\n",
              " 'agency': 0.03251389722089092,\n",
              " 'wada': 0.055075434811871674,\n",
              " 'chief': 0.022295706193835568,\n",
              " 'dick': 0.04516806861983404,\n",
              " 'pound': 0.143650426726845,\n",
              " 'says': 0.04235824320787671,\n",
              " 'marion': 0.055075434811871674,\n",
              " 'stripped': 0.14422184441864697,\n",
              " 'found': 0.04034754431197705,\n",
              " 'taking': 0.02626097592385836,\n",
              " 'banned': 0.08795668197388254,\n",
              " 'substances': 0.04026394926850372,\n",
              " 'victor': 0.04397834098694127,\n",
              " 'conte': 0.11015086962374335,\n",
              " 'balco': 0.10433911058431343,\n",
              " 'laboratories': 0.09614789627909799,\n",
              " 'claims': 0.028911120009388575,\n",
              " 'american': 0.023852783767848277,\n",
              " 'sprinter': 0.038818486201426215,\n",
              " 'regularly': 0.04026394926850372,\n",
              " 'used': 0.017814026184458168,\n",
              " 'drugs': 0.09256281132051287,\n",
              " 'enhance': 0.048073948139548996,\n",
              " 'performance': 0.027721392376495808,\n",
              " 'two': 0.01270480313453447,\n",
              " 'years': 0.026344570967331688,\n",
              " 'said': 0.015191670314805632,\n",
              " 'asked': 0.028180608276261038,\n",
              " 'timescale': 0.055075434811871674,\n",
              " 'could': 0.012258002579212997,\n",
              " 'taken': 0.051388831309311794,\n",
              " 'issue': 0.025694415654655897,\n",
              " 'however': 0.017241345945301148,\n",
              " 'international': 0.022295706193835568,\n",
              " 'olympic': 0.027499383217720302,\n",
              " 'committee': 0.032159439445019505,\n",
              " 'ioc': 0.04991558002635661,\n",
              " 'rules': 0.03407097479490363,\n",
              " 'athletes': 0.03494987759277868,\n",
              " 'caught': 0.041951364265101355,\n",
              " 'within': 0.024648550210809028,\n",
              " 'three': 0.01669939934436862,\n",
              " 'event': 0.03085427044017096,\n",
              " 'five': 0.021179121603938356,\n",
              " '2000': 0.03148578919755817,\n",
              " 'olympics': 0.03251389722089092,\n",
              " 'denies': 0.046516870565536286,\n",
              " 'using': 0.019963326833737596,\n",
              " 'take': 0.017241345945301148,\n",
              " 'legal': 0.03251389722089092,\n",
              " 'action': 0.026068569914053364,\n",
              " 'allegations': 0.04991558002635661,\n",
              " 'firm': 0.02626097592385836,\n",
              " 'centre': 0.030552725357850946,\n",
              " 'wide': 0.03181699952910353,\n",
              " 'reaching': 0.041951364265101355,\n",
              " 'investigation': 0.03816658194751135,\n",
              " 'us': 0.014536288350372338,\n",
              " 'continued': 0.029975367642295907,\n",
              " 'indeed': 0.04107246146722631,\n",
              " 'going': 0.020832767326376414,\n",
              " 'big': 0.02498528172866349,\n",
              " 'disappointment': 0.052169555292156715,\n",
              " 'lot': 0.024648550210809028,\n",
              " 'people': 0.012161341457837739}"
            ]
          },
          "metadata": {},
          "execution_count": 18
        }
      ]
    },
    {
      "cell_type": "code",
      "source": [
        "tf_test = calculate_tf(test_docs)"
      ],
      "metadata": {
        "id": "DNRzWsdsFIPC"
      },
      "execution_count": 19,
      "outputs": []
    },
    {
      "cell_type": "code",
      "source": [
        "tf_idf_test = calculate_tf_idf(tf_test, idf)"
      ],
      "metadata": {
        "id": "8V8-uJmkFRnK"
      },
      "execution_count": 20,
      "outputs": []
    },
    {
      "cell_type": "markdown",
      "source": [
        "###  Task 3.1: Calculate Centroids for each class\n"
      ],
      "metadata": {
        "id": "_8QFtnaLHa0L"
      }
    },
    {
      "cell_type": "code",
      "source": [
        "def calculate_centroids(tf_idf_train, train_labels, beta=16, gamma=4):\n",
        "    unique_labels = set(train_labels)\n",
        "    centroids = {}\n",
        "\n",
        "    all_terms = set(term for doc in tf_idf_train for term in doc)\n",
        "    all_terms_list = list(all_terms)\n",
        "\n",
        "    # Standardize TF-IDF vectors for training documents\n",
        "    standardized_tf_idf_train = []\n",
        "    for doc in tf_idf_train:\n",
        "        vector = {term: doc.get(term, 0) for term in all_terms_list}\n",
        "        standardized_tf_idf_train.append(vector)\n",
        "\n",
        "    for label in unique_labels:\n",
        "        class_docs = [standardized_tf_idf_train[i] for i in range(len(train_labels)) if train_labels[i] == label]\n",
        "        other_docs = [standardized_tf_idf_train[i] for i in range(len(train_labels)) if train_labels[i] != label]\n",
        "\n",
        "        # Calculate centroid for the class\n",
        "        np_class = len(class_docs)\n",
        "        Nt = len(tf_idf_train)\n",
        "\n",
        "        class_matrix = np.array([list(doc.values()) for doc in class_docs])\n",
        "        other_matrix = np.array([list(doc.values()) for doc in other_docs])\n",
        "\n",
        "        pos_sum = np.sum(class_matrix, axis=0)\n",
        "        neg_sum = np.sum(other_matrix, axis=0)\n",
        "\n",
        "        centroid = (beta / np_class) * pos_sum - (gamma / (Nt - np_class)) * neg_sum\n",
        "        centroids[label] = centroid\n",
        "\n",
        "    return centroids, all_terms_list\n",
        "\n"
      ],
      "metadata": {
        "id": "tCEapzOqFVks"
      },
      "execution_count": 30,
      "outputs": []
    },
    {
      "cell_type": "code",
      "source": [
        "centroids, all_terms = calculate_centroids(tf_idf_train, train_labels)"
      ],
      "metadata": {
        "id": "T3mVpek_InEO"
      },
      "execution_count": 31,
      "outputs": []
    },
    {
      "cell_type": "markdown",
      "source": [
        "### Task 3.2: Assign class using cosine similarity\n"
      ],
      "metadata": {
        "id": "vKVS1ZV8Lsff"
      }
    },
    {
      "cell_type": "code",
      "source": [
        "def cosine_similarity(vec1, vec2):\n",
        "    dot_product = np.dot(vec1, vec2)\n",
        "    norm_vec1 = np.linalg.norm(vec1)\n",
        "    norm_vec2 = np.linalg.norm(vec2)\n",
        "    return dot_product / (norm_vec1 * norm_vec2) if norm_vec1 * norm_vec2 != 0 else 0"
      ],
      "metadata": {
        "id": "8A-yHQwtLrO0"
      },
      "execution_count": 32,
      "outputs": []
    },
    {
      "cell_type": "code",
      "source": [
        "from sklearn.metrics import accuracy_score, precision_recall_fscore_support\n"
      ],
      "metadata": {
        "id": "yirLF6cJL2ej"
      },
      "execution_count": 33,
      "outputs": []
    },
    {
      "cell_type": "code",
      "source": [
        "# Predict classes for test set\n",
        "predicted_labels = []\n",
        "for doc in tf_idf_test:\n",
        "    # Standardize each test document using the stored vocabulary terms\n",
        "    standardized_doc = np.array([doc.get(term, 0) for term in all_terms])\n",
        "    similarities = {label: cosine_similarity(standardized_doc, centroid) for label, centroid in centroids.items()}\n",
        "    predicted_labels.append(max(similarities, key=similarities.get))"
      ],
      "metadata": {
        "id": "WZ1r50HWL7ZZ"
      },
      "execution_count": 34,
      "outputs": []
    },
    {
      "cell_type": "code",
      "source": [
        "accuracy = accuracy_score(test_labels, predicted_labels)"
      ],
      "metadata": {
        "id": "bTpUX_6NL_CQ"
      },
      "execution_count": 35,
      "outputs": []
    },
    {
      "cell_type": "code",
      "source": [
        "print(\"Accuracy:\", accuracy)"
      ],
      "metadata": {
        "colab": {
          "base_uri": "https://localhost:8080/"
        },
        "id": "RH2BQ0WMMvKX",
        "outputId": "d64ee6e5-845a-462f-80bc-95e793a5c659"
      },
      "execution_count": 36,
      "outputs": [
        {
          "output_type": "stream",
          "name": "stdout",
          "text": [
            "Accuracy: 0.9566666666666667\n"
          ]
        }
      ]
    },
    {
      "cell_type": "markdown",
      "source": [
        "### Task-3.3: Calculate the Accuracy, Precision, Recall, F-score."
      ],
      "metadata": {
        "id": "-rBf_w4X6vPL"
      }
    },
    {
      "cell_type": "code",
      "source": [
        "precision, recall, fscore, _ = precision_recall_fscore_support(test_labels, predicted_labels, average=None, labels=list(centroids.keys()))\n"
      ],
      "metadata": {
        "id": "v0P1PBX4Mwa6"
      },
      "execution_count": 37,
      "outputs": []
    },
    {
      "cell_type": "code",
      "source": [
        "for idx, label in enumerate(centroids.keys()):\n",
        "    print(f\"\\nClass '{label}' Metrics:\")\n",
        "    print(f\"  Precision: {precision[idx]:.2f}\")\n",
        "    print(f\"  Recall:    {recall[idx]:.2f}\")\n",
        "    print(f\"  F-score:   {fscore[idx]:.2f}\")\n"
      ],
      "metadata": {
        "id": "Xvu-rgX0M9Li",
        "outputId": "1dff0658-56c8-4397-efd1-62704f606fbb",
        "colab": {
          "base_uri": "https://localhost:8080/"
        }
      },
      "execution_count": 39,
      "outputs": [
        {
          "output_type": "stream",
          "name": "stdout",
          "text": [
            "\n",
            "Class 'historical' Metrics:\n",
            "  Precision: 1.00\n",
            "  Recall:    1.00\n",
            "  F-score:   1.00\n",
            "\n",
            "Class 'entertainment' Metrics:\n",
            "  Precision: 1.00\n",
            "  Recall:    1.00\n",
            "  F-score:   1.00\n",
            "\n",
            "Class 'space' Metrics:\n",
            "  Precision: 0.96\n",
            "  Recall:    0.90\n",
            "  F-score:   0.93\n",
            "\n",
            "Class 'business' Metrics:\n",
            "  Precision: 0.97\n",
            "  Recall:    0.93\n",
            "  F-score:   0.95\n",
            "\n",
            "Class 'graphics' Metrics:\n",
            "  Precision: 0.96\n",
            "  Recall:    0.90\n",
            "  F-score:   0.93\n",
            "\n",
            "Class 'technologie' Metrics:\n",
            "  Precision: 0.97\n",
            "  Recall:    0.97\n",
            "  F-score:   0.97\n",
            "\n",
            "Class 'medical' Metrics:\n",
            "  Precision: 0.88\n",
            "  Recall:    0.97\n",
            "  F-score:   0.92\n",
            "\n",
            "Class 'food' Metrics:\n",
            "  Precision: 0.96\n",
            "  Recall:    0.90\n",
            "  F-score:   0.93\n",
            "\n",
            "Class 'politics' Metrics:\n",
            "  Precision: 0.88\n",
            "  Recall:    1.00\n",
            "  F-score:   0.94\n",
            "\n",
            "Class 'sport' Metrics:\n",
            "  Precision: 1.00\n",
            "  Recall:    1.00\n",
            "  F-score:   1.00\n"
          ]
        }
      ]
    },
    {
      "cell_type": "code",
      "source": [],
      "metadata": {
        "id": "BgCkUrx4NAN-"
      },
      "execution_count": 29,
      "outputs": []
    }
  ]
}